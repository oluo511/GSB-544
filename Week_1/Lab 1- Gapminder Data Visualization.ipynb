{
 "cells": [
  {
   "cell_type": "raw",
   "metadata": {},
   "source": [
    "---\n",
    "title: 'Lab 1: Gapminder Data Visualization'\n",
    "output: html\n",
    "embed-resources: true\n",
    "---"
   ]
  },
  {
   "cell_type": "markdown",
   "metadata": {},
   "source": [
    "#Task 1\n",
    "1. Identify, and list here, what aesthetics are being used and which variables are being mapped to each aesthetic.\n",
    "\n",
    "Geom_point and plotnine are being used for data visualization. As for aesthetics, the x variable is Income and the y variable is Life Expectancy. There are four different colors representing the four different regions, and each bubble represents population."
   ]
  },
  {
   "cell_type": "markdown",
   "metadata": {},
   "source": [
    "2. Import the q1data.csv dataset."
   ]
  },
  {
   "cell_type": "code",
   "execution_count": 1,
   "metadata": {
    "vscode": {
     "languageId": "python"
    }
   },
   "outputs": [
    {
     "data": {
      "text/html": [
       "<div>\n",
       "<style scoped>\n",
       "    .dataframe tbody tr th:only-of-type {\n",
       "        vertical-align: middle;\n",
       "    }\n",
       "\n",
       "    .dataframe tbody tr th {\n",
       "        vertical-align: top;\n",
       "    }\n",
       "\n",
       "    .dataframe thead th {\n",
       "        text-align: right;\n",
       "    }\n",
       "</style>\n",
       "<table border=\"1\" class=\"dataframe\">\n",
       "  <thead>\n",
       "    <tr style=\"text-align: right;\">\n",
       "      <th></th>\n",
       "      <th>income</th>\n",
       "      <th>life_exp</th>\n",
       "      <th>population</th>\n",
       "      <th>year</th>\n",
       "      <th>country</th>\n",
       "      <th>four_regions</th>\n",
       "      <th>six_regions</th>\n",
       "      <th>eight_regions</th>\n",
       "      <th>world_bank_region</th>\n",
       "    </tr>\n",
       "  </thead>\n",
       "  <tbody>\n",
       "    <tr>\n",
       "      <th>0</th>\n",
       "      <td>1910.0</td>\n",
       "      <td>61.0</td>\n",
       "      <td>29200000.0</td>\n",
       "      <td>2010</td>\n",
       "      <td>Afghanistan</td>\n",
       "      <td>asia</td>\n",
       "      <td>south_asia</td>\n",
       "      <td>asia_west</td>\n",
       "      <td>South Asia</td>\n",
       "    </tr>\n",
       "    <tr>\n",
       "      <th>1</th>\n",
       "      <td>11100.0</td>\n",
       "      <td>78.1</td>\n",
       "      <td>2950000.0</td>\n",
       "      <td>2010</td>\n",
       "      <td>Albania</td>\n",
       "      <td>europe</td>\n",
       "      <td>europe_central_asia</td>\n",
       "      <td>europe_east</td>\n",
       "      <td>Europe &amp; Central Asia</td>\n",
       "    </tr>\n",
       "    <tr>\n",
       "      <th>2</th>\n",
       "      <td>11100.0</td>\n",
       "      <td>74.7</td>\n",
       "      <td>36000000.0</td>\n",
       "      <td>2010</td>\n",
       "      <td>Algeria</td>\n",
       "      <td>africa</td>\n",
       "      <td>middle_east_north_africa</td>\n",
       "      <td>africa_north</td>\n",
       "      <td>Middle East &amp; North Africa</td>\n",
       "    </tr>\n",
       "    <tr>\n",
       "      <th>3</th>\n",
       "      <td>46900.0</td>\n",
       "      <td>81.9</td>\n",
       "      <td>84500.0</td>\n",
       "      <td>2010</td>\n",
       "      <td>Andorra</td>\n",
       "      <td>europe</td>\n",
       "      <td>europe_central_asia</td>\n",
       "      <td>europe_west</td>\n",
       "      <td>Europe &amp; Central Asia</td>\n",
       "    </tr>\n",
       "    <tr>\n",
       "      <th>4</th>\n",
       "      <td>7680.0</td>\n",
       "      <td>60.8</td>\n",
       "      <td>23400000.0</td>\n",
       "      <td>2010</td>\n",
       "      <td>Angola</td>\n",
       "      <td>africa</td>\n",
       "      <td>sub_saharan_africa</td>\n",
       "      <td>africa_sub_saharan</td>\n",
       "      <td>Sub-Saharan Africa</td>\n",
       "    </tr>\n",
       "  </tbody>\n",
       "</table>\n",
       "</div>"
      ],
      "text/plain": [
       "    income  life_exp  ...       eight_regions           world_bank_region\n",
       "0   1910.0      61.0  ...           asia_west                  South Asia\n",
       "1  11100.0      78.1  ...         europe_east       Europe & Central Asia\n",
       "2  11100.0      74.7  ...        africa_north  Middle East & North Africa\n",
       "3  46900.0      81.9  ...         europe_west       Europe & Central Asia\n",
       "4   7680.0      60.8  ...  africa_sub_saharan          Sub-Saharan Africa\n",
       "\n",
       "[5 rows x 9 columns]"
      ]
     },
     "execution_count": null,
     "metadata": {},
     "output_type": "execute_result"
    }
   ],
   "source": [
    "import pandas as pd\n",
    "q1 = pd.read_csv(\"/Users/oscarluo/Documents/GSB-544/Week_1/Data/q1data.csv\")\n",
    "\n",
    "#Show heading\n",
    "q1.head()"
   ]
  },
  {
   "cell_type": "markdown",
   "metadata": {},
   "source": [
    "3. Recreate the plot as best you can using plotnine."
   ]
  },
  {
   "cell_type": "code",
   "execution_count": 9,
   "metadata": {
    "vscode": {
     "languageId": "python"
    }
   },
   "outputs": [
    {
     "ename": "NameError",
     "evalue": "name 'age_label_format' is not defined",
     "output_type": "error",
     "traceback": [
      "\u001b[0;31m---------------------------------------------------------------------------\u001b[0m\n",
      "\u001b[0;31mNameError\u001b[0m                                 Traceback (most recent call last)\n",
      "Cell \u001b[0;32mIn[9], line 12\u001b[0m\n",
      "\u001b[1;32m      2\u001b[0m \u001b[38;5;28;01mimport\u001b[39;00m \u001b[38;5;21;01mplotnine\u001b[39;00m \u001b[38;5;28;01mas\u001b[39;00m \u001b[38;5;21;01mp9\u001b[39;00m\n",
      "\u001b[1;32m      4\u001b[0m \u001b[38;5;66;03m#Recreate plot\u001b[39;00m\n",
      "\u001b[1;32m      5\u001b[0m (\n",
      "\u001b[1;32m      6\u001b[0m     p9\u001b[38;5;241m.\u001b[39mggplot(q1, \n",
      "\u001b[1;32m      7\u001b[0m         p9\u001b[38;5;241m.\u001b[39maes(\n",
      "\u001b[1;32m      8\u001b[0m             x \u001b[38;5;241m=\u001b[39m \u001b[38;5;124m\"\u001b[39m\u001b[38;5;124mincome\u001b[39m\u001b[38;5;124m\"\u001b[39m, y \u001b[38;5;241m=\u001b[39m \u001b[38;5;124m\"\u001b[39m\u001b[38;5;124mlife_exp\u001b[39m\u001b[38;5;124m\"\u001b[39m, fill \u001b[38;5;241m=\u001b[39m \u001b[38;5;124m\"\u001b[39m\u001b[38;5;124mfour_regions\u001b[39m\u001b[38;5;124m\"\u001b[39m)) \n",
      "\u001b[1;32m      9\u001b[0m     \u001b[38;5;241m+\u001b[39m p9\u001b[38;5;241m.\u001b[39mgeom_point(p9\u001b[38;5;241m.\u001b[39maes(size \u001b[38;5;241m=\u001b[39m \u001b[38;5;124m\"\u001b[39m\u001b[38;5;124mpopulation\u001b[39m\u001b[38;5;124m\"\u001b[39m))\n",
      "\u001b[1;32m     10\u001b[0m     \u001b[38;5;241m+\u001b[39m p9\u001b[38;5;241m.\u001b[39mlabs(x \u001b[38;5;241m=\u001b[39m \u001b[38;5;124m\"\u001b[39m\u001b[38;5;124mIncome\u001b[39m\u001b[38;5;124m\"\u001b[39m, y \u001b[38;5;241m=\u001b[39m \u001b[38;5;124m\"\u001b[39m\u001b[38;5;124mLife Expectancy\u001b[39m\u001b[38;5;124m\"\u001b[39m)  \n",
      "\u001b[1;32m     11\u001b[0m     \u001b[38;5;241m+\u001b[39m p9\u001b[38;5;241m.\u001b[39mscale_x_log10(breaks \u001b[38;5;241m=\u001b[39m [\u001b[38;5;241m500\u001b[39m, \u001b[38;5;241m1000\u001b[39m, \u001b[38;5;241m2000\u001b[39m, \u001b[38;5;241m4000\u001b[39m, \u001b[38;5;241m8000\u001b[39m, \u001b[38;5;241m16000\u001b[39m, \u001b[38;5;241m32000\u001b[39m, \u001b[38;5;241m64000\u001b[39m])\n",
      "\u001b[0;32m---> 12\u001b[0m     \u001b[38;5;241m+\u001b[39m p9\u001b[38;5;241m.\u001b[39mscale_y_continuous(breaks \u001b[38;5;241m=\u001b[39m [\u001b[38;5;241m20\u001b[39m, \u001b[38;5;241m30\u001b[39m, \u001b[38;5;241m40\u001b[39m, \u001b[38;5;241m50\u001b[39m, \u001b[38;5;241m60\u001b[39m, \u001b[38;5;241m70\u001b[39m, \u001b[38;5;241m80\u001b[39m, \u001b[38;5;241m90\u001b[39m], labels \u001b[38;5;241m=\u001b[39m age_label_format)\n",
      "\u001b[1;32m     13\u001b[0m )\n",
      "\n",
      "\u001b[0;31mNameError\u001b[0m: name 'age_label_format' is not defined"
     ]
    }
   ],
   "source": [
    "#Import plotnine \n",
    "import plotnine as p9\n",
    "\n",
    "#Recreate plot\n",
    "(\n",
    "    p9.ggplot(q1, \n",
    "        p9.aes(\n",
    "            x = \"income\", y = \"life_exp\", fill = \"four_regions\")) \n",
    "    + p9.geom_point(p9.aes(size = \"population\"))\n",
    "    + p9.labs(x = \"Income\", y = \"Life Expectancy\")  \n",
    "    + p9.scale_x_log10(breaks = [500, 1000, 2000, 4000, 8000, 16000, 32000, 64000])\n",
    "    + \n",
    ")"
   ]
  }
 ],
 "metadata": {
  "language_info": {
   "name": "raw"
  }
 },
 "nbformat": 4,
 "nbformat_minor": 2
}
