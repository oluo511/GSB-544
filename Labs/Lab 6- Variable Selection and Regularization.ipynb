{
 "cells": [
  {
   "cell_type": "raw",
   "metadata": {},
   "source": [
    "---\n",
    "title: 'Lab 6: Variable Selection and Regularization'\n",
    "author: Oscar Luo\n",
    "format:\n",
    "    html:\n",
    "        toc: true\n",
    "        code-fold: true\n",
    "embed-resources: true\n",
    "---"
   ]
  },
  {
   "cell_type": "code",
   "execution_count": 1,
   "metadata": {
    "vscode": {
     "languageId": "python"
    }
   },
   "outputs": [],
   "source": [
    "import pandas as pd\n",
    "import numpy as np\n",
    "from sklearn.pipeline import Pipeline\n",
    "from sklearn.compose import make_column_selector, ColumnTransformer\n",
    "from sklearn.preprocessing import StandardScaler, OneHotEncoder, PolynomialFeatures\n",
    "from sklearn.linear_model import LinearRegression, Ridge, Lasso, ElasticNet\n",
    "from sklearn.model_selection import train_test_split, cross_val_score, GridSearchCV\n",
    "from sklearn.metrics import r2_score, mean_squared_error\n",
    "import plotnine as p9"
   ]
  },
  {
   "cell_type": "code",
   "execution_count": 12,
   "metadata": {
    "vscode": {
     "languageId": "python"
    }
   },
   "outputs": [
    {
     "data": {
      "text/html": [
       "<div>\n",
       "<style scoped>\n",
       "    .dataframe tbody tr th:only-of-type {\n",
       "        vertical-align: middle;\n",
       "    }\n",
       "\n",
       "    .dataframe tbody tr th {\n",
       "        vertical-align: top;\n",
       "    }\n",
       "\n",
       "    .dataframe thead th {\n",
       "        text-align: right;\n",
       "    }\n",
       "</style>\n",
       "<table border=\"1\" class=\"dataframe\">\n",
       "  <thead>\n",
       "    <tr style=\"text-align: right;\">\n",
       "      <th></th>\n",
       "      <th>AtBat</th>\n",
       "      <th>Hits</th>\n",
       "      <th>HmRun</th>\n",
       "      <th>Runs</th>\n",
       "      <th>RBI</th>\n",
       "      <th>Walks</th>\n",
       "      <th>Years</th>\n",
       "      <th>CAtBat</th>\n",
       "      <th>CHits</th>\n",
       "      <th>CHmRun</th>\n",
       "      <th>CRuns</th>\n",
       "      <th>CRBI</th>\n",
       "      <th>CWalks</th>\n",
       "      <th>League</th>\n",
       "      <th>Division</th>\n",
       "      <th>PutOuts</th>\n",
       "      <th>Assists</th>\n",
       "      <th>Errors</th>\n",
       "      <th>Salary</th>\n",
       "      <th>NewLeague</th>\n",
       "    </tr>\n",
       "  </thead>\n",
       "  <tbody>\n",
       "    <tr>\n",
       "      <th>0</th>\n",
       "      <td>293</td>\n",
       "      <td>66</td>\n",
       "      <td>1</td>\n",
       "      <td>30</td>\n",
       "      <td>29</td>\n",
       "      <td>14</td>\n",
       "      <td>1</td>\n",
       "      <td>293</td>\n",
       "      <td>66</td>\n",
       "      <td>1</td>\n",
       "      <td>30</td>\n",
       "      <td>29</td>\n",
       "      <td>14</td>\n",
       "      <td>A</td>\n",
       "      <td>E</td>\n",
       "      <td>446</td>\n",
       "      <td>33</td>\n",
       "      <td>20</td>\n",
       "      <td>NaN</td>\n",
       "      <td>A</td>\n",
       "    </tr>\n",
       "    <tr>\n",
       "      <th>1</th>\n",
       "      <td>315</td>\n",
       "      <td>81</td>\n",
       "      <td>7</td>\n",
       "      <td>24</td>\n",
       "      <td>38</td>\n",
       "      <td>39</td>\n",
       "      <td>14</td>\n",
       "      <td>3449</td>\n",
       "      <td>835</td>\n",
       "      <td>69</td>\n",
       "      <td>321</td>\n",
       "      <td>414</td>\n",
       "      <td>375</td>\n",
       "      <td>N</td>\n",
       "      <td>W</td>\n",
       "      <td>632</td>\n",
       "      <td>43</td>\n",
       "      <td>10</td>\n",
       "      <td>475.0</td>\n",
       "      <td>N</td>\n",
       "    </tr>\n",
       "    <tr>\n",
       "      <th>2</th>\n",
       "      <td>479</td>\n",
       "      <td>130</td>\n",
       "      <td>18</td>\n",
       "      <td>66</td>\n",
       "      <td>72</td>\n",
       "      <td>76</td>\n",
       "      <td>3</td>\n",
       "      <td>1624</td>\n",
       "      <td>457</td>\n",
       "      <td>63</td>\n",
       "      <td>224</td>\n",
       "      <td>266</td>\n",
       "      <td>263</td>\n",
       "      <td>A</td>\n",
       "      <td>W</td>\n",
       "      <td>880</td>\n",
       "      <td>82</td>\n",
       "      <td>14</td>\n",
       "      <td>480.0</td>\n",
       "      <td>A</td>\n",
       "    </tr>\n",
       "    <tr>\n",
       "      <th>3</th>\n",
       "      <td>496</td>\n",
       "      <td>141</td>\n",
       "      <td>20</td>\n",
       "      <td>65</td>\n",
       "      <td>78</td>\n",
       "      <td>37</td>\n",
       "      <td>11</td>\n",
       "      <td>5628</td>\n",
       "      <td>1575</td>\n",
       "      <td>225</td>\n",
       "      <td>828</td>\n",
       "      <td>838</td>\n",
       "      <td>354</td>\n",
       "      <td>N</td>\n",
       "      <td>E</td>\n",
       "      <td>200</td>\n",
       "      <td>11</td>\n",
       "      <td>3</td>\n",
       "      <td>500.0</td>\n",
       "      <td>N</td>\n",
       "    </tr>\n",
       "    <tr>\n",
       "      <th>4</th>\n",
       "      <td>321</td>\n",
       "      <td>87</td>\n",
       "      <td>10</td>\n",
       "      <td>39</td>\n",
       "      <td>42</td>\n",
       "      <td>30</td>\n",
       "      <td>2</td>\n",
       "      <td>396</td>\n",
       "      <td>101</td>\n",
       "      <td>12</td>\n",
       "      <td>48</td>\n",
       "      <td>46</td>\n",
       "      <td>33</td>\n",
       "      <td>N</td>\n",
       "      <td>E</td>\n",
       "      <td>805</td>\n",
       "      <td>40</td>\n",
       "      <td>4</td>\n",
       "      <td>91.5</td>\n",
       "      <td>N</td>\n",
       "    </tr>\n",
       "    <tr>\n",
       "      <th>...</th>\n",
       "      <td>...</td>\n",
       "      <td>...</td>\n",
       "      <td>...</td>\n",
       "      <td>...</td>\n",
       "      <td>...</td>\n",
       "      <td>...</td>\n",
       "      <td>...</td>\n",
       "      <td>...</td>\n",
       "      <td>...</td>\n",
       "      <td>...</td>\n",
       "      <td>...</td>\n",
       "      <td>...</td>\n",
       "      <td>...</td>\n",
       "      <td>...</td>\n",
       "      <td>...</td>\n",
       "      <td>...</td>\n",
       "      <td>...</td>\n",
       "      <td>...</td>\n",
       "      <td>...</td>\n",
       "      <td>...</td>\n",
       "    </tr>\n",
       "    <tr>\n",
       "      <th>317</th>\n",
       "      <td>497</td>\n",
       "      <td>127</td>\n",
       "      <td>7</td>\n",
       "      <td>65</td>\n",
       "      <td>48</td>\n",
       "      <td>37</td>\n",
       "      <td>5</td>\n",
       "      <td>2703</td>\n",
       "      <td>806</td>\n",
       "      <td>32</td>\n",
       "      <td>379</td>\n",
       "      <td>311</td>\n",
       "      <td>138</td>\n",
       "      <td>N</td>\n",
       "      <td>E</td>\n",
       "      <td>325</td>\n",
       "      <td>9</td>\n",
       "      <td>3</td>\n",
       "      <td>700.0</td>\n",
       "      <td>N</td>\n",
       "    </tr>\n",
       "    <tr>\n",
       "      <th>318</th>\n",
       "      <td>492</td>\n",
       "      <td>136</td>\n",
       "      <td>5</td>\n",
       "      <td>76</td>\n",
       "      <td>50</td>\n",
       "      <td>94</td>\n",
       "      <td>12</td>\n",
       "      <td>5511</td>\n",
       "      <td>1511</td>\n",
       "      <td>39</td>\n",
       "      <td>897</td>\n",
       "      <td>451</td>\n",
       "      <td>875</td>\n",
       "      <td>A</td>\n",
       "      <td>E</td>\n",
       "      <td>313</td>\n",
       "      <td>381</td>\n",
       "      <td>20</td>\n",
       "      <td>875.0</td>\n",
       "      <td>A</td>\n",
       "    </tr>\n",
       "    <tr>\n",
       "      <th>319</th>\n",
       "      <td>475</td>\n",
       "      <td>126</td>\n",
       "      <td>3</td>\n",
       "      <td>61</td>\n",
       "      <td>43</td>\n",
       "      <td>52</td>\n",
       "      <td>6</td>\n",
       "      <td>1700</td>\n",
       "      <td>433</td>\n",
       "      <td>7</td>\n",
       "      <td>217</td>\n",
       "      <td>93</td>\n",
       "      <td>146</td>\n",
       "      <td>A</td>\n",
       "      <td>W</td>\n",
       "      <td>37</td>\n",
       "      <td>113</td>\n",
       "      <td>7</td>\n",
       "      <td>385.0</td>\n",
       "      <td>A</td>\n",
       "    </tr>\n",
       "    <tr>\n",
       "      <th>320</th>\n",
       "      <td>573</td>\n",
       "      <td>144</td>\n",
       "      <td>9</td>\n",
       "      <td>85</td>\n",
       "      <td>60</td>\n",
       "      <td>78</td>\n",
       "      <td>8</td>\n",
       "      <td>3198</td>\n",
       "      <td>857</td>\n",
       "      <td>97</td>\n",
       "      <td>470</td>\n",
       "      <td>420</td>\n",
       "      <td>332</td>\n",
       "      <td>A</td>\n",
       "      <td>E</td>\n",
       "      <td>1314</td>\n",
       "      <td>131</td>\n",
       "      <td>12</td>\n",
       "      <td>960.0</td>\n",
       "      <td>A</td>\n",
       "    </tr>\n",
       "    <tr>\n",
       "      <th>321</th>\n",
       "      <td>631</td>\n",
       "      <td>170</td>\n",
       "      <td>9</td>\n",
       "      <td>77</td>\n",
       "      <td>44</td>\n",
       "      <td>31</td>\n",
       "      <td>11</td>\n",
       "      <td>4908</td>\n",
       "      <td>1457</td>\n",
       "      <td>30</td>\n",
       "      <td>775</td>\n",
       "      <td>357</td>\n",
       "      <td>249</td>\n",
       "      <td>A</td>\n",
       "      <td>W</td>\n",
       "      <td>408</td>\n",
       "      <td>4</td>\n",
       "      <td>3</td>\n",
       "      <td>1000.0</td>\n",
       "      <td>A</td>\n",
       "    </tr>\n",
       "  </tbody>\n",
       "</table>\n",
       "<p>322 rows × 20 columns</p>\n",
       "</div>"
      ],
      "text/plain": [
       "     AtBat  Hits  HmRun  Runs  RBI  ...  PutOuts  Assists  Errors  Salary  NewLeague\n",
       "0      293    66      1    30   29  ...      446       33      20     NaN          A\n",
       "1      315    81      7    24   38  ...      632       43      10   475.0          N\n",
       "2      479   130     18    66   72  ...      880       82      14   480.0          A\n",
       "3      496   141     20    65   78  ...      200       11       3   500.0          N\n",
       "4      321    87     10    39   42  ...      805       40       4    91.5          N\n",
       "..     ...   ...    ...   ...  ...  ...      ...      ...     ...     ...        ...\n",
       "317    497   127      7    65   48  ...      325        9       3   700.0          N\n",
       "318    492   136      5    76   50  ...      313      381      20   875.0          A\n",
       "319    475   126      3    61   43  ...       37      113       7   385.0          A\n",
       "320    573   144      9    85   60  ...     1314      131      12   960.0          A\n",
       "321    631   170      9    77   44  ...      408        4       3  1000.0          A\n",
       "\n",
       "[322 rows x 20 columns]"
      ]
     },
     "execution_count": null,
     "metadata": {},
     "output_type": "execute_result"
    }
   ],
   "source": [
    "hitters = pd.read_csv('/Users/oscarluo/Downloads/Hitters.csv')\n",
    "hitters"
   ]
  },
  {
   "cell_type": "code",
   "execution_count": 13,
   "metadata": {
    "vscode": {
     "languageId": "python"
    }
   },
   "outputs": [
    {
     "data": {
      "text/plain": [
       "AtBat         0\n",
       "Hits          0\n",
       "HmRun         0\n",
       "Runs          0\n",
       "RBI           0\n",
       "Walks         0\n",
       "Years         0\n",
       "CAtBat        0\n",
       "CHits         0\n",
       "CHmRun        0\n",
       "CRuns         0\n",
       "CRBI          0\n",
       "CWalks        0\n",
       "League        0\n",
       "Division      0\n",
       "PutOuts       0\n",
       "Assists       0\n",
       "Errors        0\n",
       "Salary       59\n",
       "NewLeague     0\n",
       "dtype: int64"
      ]
     },
     "execution_count": null,
     "metadata": {},
     "output_type": "execute_result"
    }
   ],
   "source": [
    "# Looking at missing data\n",
    "hitters.isna().sum()"
   ]
  },
  {
   "cell_type": "code",
   "execution_count": 14,
   "metadata": {
    "vscode": {
     "languageId": "python"
    }
   },
   "outputs": [
    {
     "name": "stderr",
     "output_type": "stream",
     "text": [
      "<positron-console-cell-14>:2: FutureWarning: A value is trying to be set on a copy of a DataFrame or Series through chained assignment using an inplace method.\n",
      "The behavior will change in pandas 3.0. This inplace method will never work because the intermediate object on which we are setting values always behaves as a copy.\n",
      "\n",
      "For example, when doing 'df[col].method(value, inplace=True)', try using 'df.method({col: value}, inplace=True)' or df[col] = df[col].method(value) instead, to perform the operation inplace on the original object.\n",
      "\n",
      "\n"
     ]
    },
    {
     "data": {
      "text/html": [
       "<div>\n",
       "<style scoped>\n",
       "    .dataframe tbody tr th:only-of-type {\n",
       "        vertical-align: middle;\n",
       "    }\n",
       "\n",
       "    .dataframe tbody tr th {\n",
       "        vertical-align: top;\n",
       "    }\n",
       "\n",
       "    .dataframe thead th {\n",
       "        text-align: right;\n",
       "    }\n",
       "</style>\n",
       "<table border=\"1\" class=\"dataframe\">\n",
       "  <thead>\n",
       "    <tr style=\"text-align: right;\">\n",
       "      <th></th>\n",
       "      <th>AtBat</th>\n",
       "      <th>Hits</th>\n",
       "      <th>HmRun</th>\n",
       "      <th>Runs</th>\n",
       "      <th>RBI</th>\n",
       "      <th>Walks</th>\n",
       "      <th>Years</th>\n",
       "      <th>CAtBat</th>\n",
       "      <th>CHits</th>\n",
       "      <th>CHmRun</th>\n",
       "      <th>CRuns</th>\n",
       "      <th>CRBI</th>\n",
       "      <th>CWalks</th>\n",
       "      <th>League</th>\n",
       "      <th>Division</th>\n",
       "      <th>PutOuts</th>\n",
       "      <th>Assists</th>\n",
       "      <th>Errors</th>\n",
       "      <th>Salary</th>\n",
       "      <th>NewLeague</th>\n",
       "    </tr>\n",
       "  </thead>\n",
       "  <tbody>\n",
       "    <tr>\n",
       "      <th>0</th>\n",
       "      <td>293</td>\n",
       "      <td>66</td>\n",
       "      <td>1</td>\n",
       "      <td>30</td>\n",
       "      <td>29</td>\n",
       "      <td>14</td>\n",
       "      <td>1</td>\n",
       "      <td>293</td>\n",
       "      <td>66</td>\n",
       "      <td>1</td>\n",
       "      <td>30</td>\n",
       "      <td>29</td>\n",
       "      <td>14</td>\n",
       "      <td>A</td>\n",
       "      <td>E</td>\n",
       "      <td>446</td>\n",
       "      <td>33</td>\n",
       "      <td>20</td>\n",
       "      <td>535.925882</td>\n",
       "      <td>A</td>\n",
       "    </tr>\n",
       "    <tr>\n",
       "      <th>1</th>\n",
       "      <td>315</td>\n",
       "      <td>81</td>\n",
       "      <td>7</td>\n",
       "      <td>24</td>\n",
       "      <td>38</td>\n",
       "      <td>39</td>\n",
       "      <td>14</td>\n",
       "      <td>3449</td>\n",
       "      <td>835</td>\n",
       "      <td>69</td>\n",
       "      <td>321</td>\n",
       "      <td>414</td>\n",
       "      <td>375</td>\n",
       "      <td>N</td>\n",
       "      <td>W</td>\n",
       "      <td>632</td>\n",
       "      <td>43</td>\n",
       "      <td>10</td>\n",
       "      <td>475.000000</td>\n",
       "      <td>N</td>\n",
       "    </tr>\n",
       "    <tr>\n",
       "      <th>2</th>\n",
       "      <td>479</td>\n",
       "      <td>130</td>\n",
       "      <td>18</td>\n",
       "      <td>66</td>\n",
       "      <td>72</td>\n",
       "      <td>76</td>\n",
       "      <td>3</td>\n",
       "      <td>1624</td>\n",
       "      <td>457</td>\n",
       "      <td>63</td>\n",
       "      <td>224</td>\n",
       "      <td>266</td>\n",
       "      <td>263</td>\n",
       "      <td>A</td>\n",
       "      <td>W</td>\n",
       "      <td>880</td>\n",
       "      <td>82</td>\n",
       "      <td>14</td>\n",
       "      <td>480.000000</td>\n",
       "      <td>A</td>\n",
       "    </tr>\n",
       "    <tr>\n",
       "      <th>3</th>\n",
       "      <td>496</td>\n",
       "      <td>141</td>\n",
       "      <td>20</td>\n",
       "      <td>65</td>\n",
       "      <td>78</td>\n",
       "      <td>37</td>\n",
       "      <td>11</td>\n",
       "      <td>5628</td>\n",
       "      <td>1575</td>\n",
       "      <td>225</td>\n",
       "      <td>828</td>\n",
       "      <td>838</td>\n",
       "      <td>354</td>\n",
       "      <td>N</td>\n",
       "      <td>E</td>\n",
       "      <td>200</td>\n",
       "      <td>11</td>\n",
       "      <td>3</td>\n",
       "      <td>500.000000</td>\n",
       "      <td>N</td>\n",
       "    </tr>\n",
       "    <tr>\n",
       "      <th>4</th>\n",
       "      <td>321</td>\n",
       "      <td>87</td>\n",
       "      <td>10</td>\n",
       "      <td>39</td>\n",
       "      <td>42</td>\n",
       "      <td>30</td>\n",
       "      <td>2</td>\n",
       "      <td>396</td>\n",
       "      <td>101</td>\n",
       "      <td>12</td>\n",
       "      <td>48</td>\n",
       "      <td>46</td>\n",
       "      <td>33</td>\n",
       "      <td>N</td>\n",
       "      <td>E</td>\n",
       "      <td>805</td>\n",
       "      <td>40</td>\n",
       "      <td>4</td>\n",
       "      <td>91.500000</td>\n",
       "      <td>N</td>\n",
       "    </tr>\n",
       "    <tr>\n",
       "      <th>...</th>\n",
       "      <td>...</td>\n",
       "      <td>...</td>\n",
       "      <td>...</td>\n",
       "      <td>...</td>\n",
       "      <td>...</td>\n",
       "      <td>...</td>\n",
       "      <td>...</td>\n",
       "      <td>...</td>\n",
       "      <td>...</td>\n",
       "      <td>...</td>\n",
       "      <td>...</td>\n",
       "      <td>...</td>\n",
       "      <td>...</td>\n",
       "      <td>...</td>\n",
       "      <td>...</td>\n",
       "      <td>...</td>\n",
       "      <td>...</td>\n",
       "      <td>...</td>\n",
       "      <td>...</td>\n",
       "      <td>...</td>\n",
       "    </tr>\n",
       "    <tr>\n",
       "      <th>317</th>\n",
       "      <td>497</td>\n",
       "      <td>127</td>\n",
       "      <td>7</td>\n",
       "      <td>65</td>\n",
       "      <td>48</td>\n",
       "      <td>37</td>\n",
       "      <td>5</td>\n",
       "      <td>2703</td>\n",
       "      <td>806</td>\n",
       "      <td>32</td>\n",
       "      <td>379</td>\n",
       "      <td>311</td>\n",
       "      <td>138</td>\n",
       "      <td>N</td>\n",
       "      <td>E</td>\n",
       "      <td>325</td>\n",
       "      <td>9</td>\n",
       "      <td>3</td>\n",
       "      <td>700.000000</td>\n",
       "      <td>N</td>\n",
       "    </tr>\n",
       "    <tr>\n",
       "      <th>318</th>\n",
       "      <td>492</td>\n",
       "      <td>136</td>\n",
       "      <td>5</td>\n",
       "      <td>76</td>\n",
       "      <td>50</td>\n",
       "      <td>94</td>\n",
       "      <td>12</td>\n",
       "      <td>5511</td>\n",
       "      <td>1511</td>\n",
       "      <td>39</td>\n",
       "      <td>897</td>\n",
       "      <td>451</td>\n",
       "      <td>875</td>\n",
       "      <td>A</td>\n",
       "      <td>E</td>\n",
       "      <td>313</td>\n",
       "      <td>381</td>\n",
       "      <td>20</td>\n",
       "      <td>875.000000</td>\n",
       "      <td>A</td>\n",
       "    </tr>\n",
       "    <tr>\n",
       "      <th>319</th>\n",
       "      <td>475</td>\n",
       "      <td>126</td>\n",
       "      <td>3</td>\n",
       "      <td>61</td>\n",
       "      <td>43</td>\n",
       "      <td>52</td>\n",
       "      <td>6</td>\n",
       "      <td>1700</td>\n",
       "      <td>433</td>\n",
       "      <td>7</td>\n",
       "      <td>217</td>\n",
       "      <td>93</td>\n",
       "      <td>146</td>\n",
       "      <td>A</td>\n",
       "      <td>W</td>\n",
       "      <td>37</td>\n",
       "      <td>113</td>\n",
       "      <td>7</td>\n",
       "      <td>385.000000</td>\n",
       "      <td>A</td>\n",
       "    </tr>\n",
       "    <tr>\n",
       "      <th>320</th>\n",
       "      <td>573</td>\n",
       "      <td>144</td>\n",
       "      <td>9</td>\n",
       "      <td>85</td>\n",
       "      <td>60</td>\n",
       "      <td>78</td>\n",
       "      <td>8</td>\n",
       "      <td>3198</td>\n",
       "      <td>857</td>\n",
       "      <td>97</td>\n",
       "      <td>470</td>\n",
       "      <td>420</td>\n",
       "      <td>332</td>\n",
       "      <td>A</td>\n",
       "      <td>E</td>\n",
       "      <td>1314</td>\n",
       "      <td>131</td>\n",
       "      <td>12</td>\n",
       "      <td>960.000000</td>\n",
       "      <td>A</td>\n",
       "    </tr>\n",
       "    <tr>\n",
       "      <th>321</th>\n",
       "      <td>631</td>\n",
       "      <td>170</td>\n",
       "      <td>9</td>\n",
       "      <td>77</td>\n",
       "      <td>44</td>\n",
       "      <td>31</td>\n",
       "      <td>11</td>\n",
       "      <td>4908</td>\n",
       "      <td>1457</td>\n",
       "      <td>30</td>\n",
       "      <td>775</td>\n",
       "      <td>357</td>\n",
       "      <td>249</td>\n",
       "      <td>A</td>\n",
       "      <td>W</td>\n",
       "      <td>408</td>\n",
       "      <td>4</td>\n",
       "      <td>3</td>\n",
       "      <td>1000.000000</td>\n",
       "      <td>A</td>\n",
       "    </tr>\n",
       "  </tbody>\n",
       "</table>\n",
       "<p>322 rows × 20 columns</p>\n",
       "</div>"
      ],
      "text/plain": [
       "     AtBat  Hits  HmRun  Runs  ...  Assists  Errors       Salary  NewLeague\n",
       "0      293    66      1    30  ...       33      20   535.925882          A\n",
       "1      315    81      7    24  ...       43      10   475.000000          N\n",
       "2      479   130     18    66  ...       82      14   480.000000          A\n",
       "3      496   141     20    65  ...       11       3   500.000000          N\n",
       "4      321    87     10    39  ...       40       4    91.500000          N\n",
       "..     ...   ...    ...   ...  ...      ...     ...          ...        ...\n",
       "317    497   127      7    65  ...        9       3   700.000000          N\n",
       "318    492   136      5    76  ...      381      20   875.000000          A\n",
       "319    475   126      3    61  ...      113       7   385.000000          A\n",
       "320    573   144      9    85  ...      131      12   960.000000          A\n",
       "321    631   170      9    77  ...        4       3  1000.000000          A\n",
       "\n",
       "[322 rows x 20 columns]"
      ]
     },
     "execution_count": null,
     "metadata": {},
     "output_type": "execute_result"
    }
   ],
   "source": [
    "# Replace missing salary data with average\n",
    "hitters['Salary'].fillna(hitters['Salary'].mean(), inplace=True)\n",
    "hitters"
   ]
  },
  {
   "cell_type": "markdown",
   "metadata": {},
   "source": [
    "# Part I: Different Model Specs"
   ]
  },
  {
   "cell_type": "code",
   "execution_count": 92,
   "metadata": {
    "vscode": {
     "languageId": "python"
    }
   },
   "outputs": [
    {
     "name": "stdout",
     "output_type": "stream",
     "text": [
      "CRuns: 429.1188810776027\n",
      "AtBat: -310.8336994660927\n",
      "CAtBat: -309.7234513025987\n",
      "Hits: 286.9220505971286\n",
      "CRBI: 210.89251515025924\n",
      "CWalks: -177.75371266019405\n",
      "Walks: 113.77095895125693\n",
      "CHits: 92.0584551351487\n",
      "PutOuts: 65.70063996330718\n",
      "Division_W: -55.50379454676699\n",
      "CRuns: 429.1188810776027\n",
      "AtBat: -310.8336994660927\n",
      "CAtBat: -309.7234513025987\n",
      "Hits: 286.9220505971286\n",
      "CRBI: 210.89251515025924\n",
      "CWalks: -177.75371266019405\n",
      "Walks: 113.77095895125693\n",
      "CHits: 92.0584551351487\n",
      "PutOuts: 65.70063996330718\n",
      "Division_W: -55.50379454676699\n"
     ]
    }
   ],
   "source": [
    "# Define X and y\n",
    "X = hitters.drop(\"Salary\", axis=1)\n",
    "y = hitters[\"Salary\"]\n",
    "\n",
    "# CT\n",
    "ct = ColumnTransformer(\n",
    "    transformers=[\n",
    "        (\"one_hot\", OneHotEncoder(sparse_output=False, handle_unknown=\"ignore\"),\n",
    "         make_column_selector(dtype_include=object)),\n",
    "        (\"scale\", StandardScaler(),\n",
    "         make_column_selector(dtype_include=np.number))\n",
    "    ],\n",
    "    remainder=\"passthrough\"\n",
    ").set_output(transform=\"pandas\")\n",
    "\n",
    "lr = LinearRegression()\n",
    "\n",
    "# Create the linear regression pipeline\n",
    "lr_pipeline = Pipeline([\n",
    "    (\"preprocessing\", ct),\n",
    "    (\"lr\", lr)\n",
    "])\n",
    "\n",
    "# Fit the pipeline to the full dataset\n",
    "lr_pipeline.fit(X, y)\n",
    "\n",
    "# Get coefficients\n",
    "lr_coef = lr_pipeline.named_steps['lr'].coef_\n",
    "\n",
    "# Get feature names from transformed data\n",
    "cat_features = ct.named_transformers_[\"one_hot\"].get_feature_names_out(input_features=X.select_dtypes(include=object).columns)\n",
    "num_features = X.select_dtypes(include=np.number).columns\n",
    "feature_names = np.concatenate([cat_features, num_features])\n",
    "\n",
    "# Pair features with coefficients and most important ones by size\n",
    "feature_coefficients = list(zip(feature_names, lr_coef))\n",
    "sorted_coefficients = sorted(feature_coefficients, key=lambda x: abs(x[1]), reverse=True)\n",
    "\n",
    "# Display most significant coefficients\n",
    "for feature, coef in sorted_coefficients[:10]:\n",
    "    print(f\"{feature}: {coef}\")"
   ]
  },
  {
   "cell_type": "markdown",
   "metadata": {},
   "source": [
    "Each run in a player’s career increases salary by about $429.12, which suggests that players who score more runs are highly valued.\n",
    "\n",
    "Each at bat in the season decreases salary by approximately $310.83, which means that having a high number of at bats without standout performance might not contribute positively to salary.\n",
    "\n",
    "Similar to AtBat, each career at bat reduces salary by about $310, which suggest that quantity alone doesn’t drive salary increases.\n",
    "\n",
    "Each  hit in the season increases salary by about $286.92. This highlights the importance of effective batting performance in determining salary.\n",
    "\n",
    "Each additional career RBI in a player’s career increases salary by about $210.89, showing that players with a track record of driving in runs tend to have higher salary."
   ]
  },
  {
   "cell_type": "code",
   "execution_count": 55,
   "metadata": {
    "vscode": {
     "languageId": "python"
    }
   },
   "outputs": [
    {
     "name": "stdout",
     "output_type": "stream",
     "text": [
      "Estimated Cross-Validated MSE: 111079.9589401905\n",
      "Estimated Cross-Validated MSE: 111079.9589401905\n"
     ]
    }
   ],
   "source": [
    "# Cross-validation to estimate MSE\n",
    "mse_scores = -cross_val_score(lr_pipeline, X, y, scoring=\"neg_mean_squared_error\", cv=5)\n",
    "mean_mse = np.mean(mse_scores)\n",
    "\n",
    "print(\"Estimated Cross-Validated MSE:\", mean_mse)"
   ]
  },
  {
   "cell_type": "markdown",
   "metadata": {},
   "source": [
    "## B. Ridge regression"
   ]
  },
  {
   "cell_type": "code",
   "execution_count": 106,
   "metadata": {
    "vscode": {
     "languageId": "python"
    }
   },
   "outputs": [
    {
     "name": "stdout",
     "output_type": "stream",
     "text": [
      "   alphas         scores\n",
      "0   0.001  110827.268479\n",
      "1   0.010  110706.903449\n",
      "2   0.100  109843.994208\n",
      "3   1.000  107961.775111\n",
      "4  10.000  108447.788605\n",
      "   alphas         scores\n",
      "0   0.001  110827.268479\n",
      "1   0.010  110706.903449\n",
      "2   0.100  109843.994208\n",
      "3   1.000  107961.775111\n",
      "4  10.000  108447.788605\n"
     ]
    }
   ],
   "source": [
    "ridge = Ridge()\n",
    "\n",
    "# Set up the Ridge regression pipeline\n",
    "ridge_pipeline = Pipeline([\n",
    "    (\"preprocessing\", ct),\n",
    "    (\"ridge_regression\", ridge)\n",
    "])\n",
    "\n",
    "# Range of lambda values to search\n",
    "alpha = {\"ridge_regression__alpha\": [0.001, 0.01, 0.1, 1, 10]}\n",
    "\n",
    "# Perform grid search cross-validation\n",
    "gscv_ridge = GridSearchCV(ridge_pipeline, alpha, cv=5, scoring=\"neg_mean_squared_error\")\n",
    "ridge_fitted = gscv_ridge.fit(X, y)\n",
    "\n",
    "# Convert MSE scores to positive values for readability\n",
    "positive_mse_scores = -ridge_fitted.cv_results_[\"mean_test_score\"]\n",
    "\n",
    "# Display alpha values and corresponding MSE scores\n",
    "results_df = pd.DataFrame({\n",
    "    \"alphas\": alpha[\"ridge_regression__alpha\"],\n",
    "    \"scores\": positive_mse_scores\n",
    "})\n",
    "\n",
    "print(results_df)"
   ]
  },
  {
   "cell_type": "code",
   "execution_count": 91,
   "metadata": {
    "vscode": {
     "languageId": "python"
    }
   },
   "outputs": [
    {
     "data": {
      "text/html": [
       "<div>\n",
       "<style scoped>\n",
       "    .dataframe tbody tr th:only-of-type {\n",
       "        vertical-align: middle;\n",
       "    }\n",
       "\n",
       "    .dataframe tbody tr th {\n",
       "        vertical-align: top;\n",
       "    }\n",
       "\n",
       "    .dataframe thead th {\n",
       "        text-align: right;\n",
       "    }\n",
       "</style>\n",
       "<table border=\"1\" class=\"dataframe\">\n",
       "  <thead>\n",
       "    <tr style=\"text-align: right;\">\n",
       "      <th></th>\n",
       "      <th>Predictors</th>\n",
       "      <th>Coefficient</th>\n",
       "    </tr>\n",
       "  </thead>\n",
       "  <tbody>\n",
       "    <tr>\n",
       "      <th>16</th>\n",
       "      <td>CRuns</td>\n",
       "      <td>308.502312</td>\n",
       "    </tr>\n",
       "    <tr>\n",
       "      <th>6</th>\n",
       "      <td>AtBat</td>\n",
       "      <td>-291.999497</td>\n",
       "    </tr>\n",
       "    <tr>\n",
       "      <th>7</th>\n",
       "      <td>Hits</td>\n",
       "      <td>254.470866</td>\n",
       "    </tr>\n",
       "    <tr>\n",
       "      <th>13</th>\n",
       "      <td>CAtBat</td>\n",
       "      <td>-192.812729</td>\n",
       "    </tr>\n",
       "    <tr>\n",
       "      <th>18</th>\n",
       "      <td>CWalks</td>\n",
       "      <td>-155.856907</td>\n",
       "    </tr>\n",
       "    <tr>\n",
       "      <th>17</th>\n",
       "      <td>CRBI</td>\n",
       "      <td>132.055392</td>\n",
       "    </tr>\n",
       "    <tr>\n",
       "      <th>14</th>\n",
       "      <td>CHits</td>\n",
       "      <td>128.640891</td>\n",
       "    </tr>\n",
       "    <tr>\n",
       "      <th>11</th>\n",
       "      <td>Walks</td>\n",
       "      <td>106.083069</td>\n",
       "    </tr>\n",
       "    <tr>\n",
       "      <th>12</th>\n",
       "      <td>Years</td>\n",
       "      <td>-67.889011</td>\n",
       "    </tr>\n",
       "    <tr>\n",
       "      <th>19</th>\n",
       "      <td>PutOuts</td>\n",
       "      <td>65.577334</td>\n",
       "    </tr>\n",
       "  </tbody>\n",
       "</table>\n",
       "</div>"
      ],
      "text/plain": [
       "   Predictors  Coefficient\n",
       "16      CRuns   308.502312\n",
       "6       AtBat  -291.999497\n",
       "7        Hits   254.470866\n",
       "13     CAtBat  -192.812729\n",
       "18     CWalks  -155.856907\n",
       "17       CRBI   132.055392\n",
       "14      CHits   128.640891\n",
       "11      Walks   106.083069\n",
       "12      Years   -67.889011\n",
       "19    PutOuts    65.577334"
      ]
     },
     "execution_count": null,
     "metadata": {},
     "output_type": "execute_result"
    }
   ],
   "source": [
    "# Get best pipeline from grid search\n",
    "best_ridge_model = ridge_fitted.best_estimator_\n",
    "\n",
    "# Get coefficients from the Ridge regression model\n",
    "ridge_coef = best_ridge_model.named_steps[\"ridge_regression\"].coef_\n",
    "\n",
    "# Ensure the correct transformer name is used to access categorical feature names\n",
    "cat_features = best_ridge_model.named_steps[\"preprocessing\"].named_transformers_[\"one_hot\"].get_feature_names_out(\n",
    "    input_features=X.select_dtypes(include=object).columns\n",
    ")\n",
    "num_features = X.select_dtypes(include=np.number).columns\n",
    "variables = list(cat_features) + list(num_features)\n",
    "\n",
    "# Create DataFrame to display feature names and coefficients\n",
    "coef_df = pd.DataFrame({\n",
    "    \"Predictors\": variables,\n",
    "    \"Coefficient\": ridge_coef\n",
    "})\n",
    "\n",
    "# Sort coefficients by absolute value for importance\n",
    "coef_df = coef_df.reindex(coef_df['Coefficient'].abs().sort_values(ascending=False).index)\n",
    "\n",
    "coef_df.head(10)"
   ]
  },
  {
   "cell_type": "markdown",
   "metadata": {},
   "source": [
    "For each career run, salary increases by about $308.50.\n",
    "\n",
    "For each at-bat during the season, salary is decreased by $292.\n",
    "\n",
    "For each hit in the season, it is associated with an increase in salary by around $254.47.\n",
    "\n",
    "For each career at-bat, it is associated with a decrease in salary of about $193.81.\n",
    "\n",
    "For each career walk, it is correlated with a decrease in salary by about $156.86."
   ]
  },
  {
   "cell_type": "code",
   "execution_count": 97,
   "metadata": {
    "vscode": {
     "languageId": "python"
    }
   },
   "outputs": [
    {
     "name": "stdout",
     "output_type": "stream",
     "text": [
      "Expected MSE for predicting 1989 salaries: 107961.77511144585\n",
      "Expected MSE for predicting 1989 salaries: 107961.77511144585\n"
     ]
    }
   ],
   "source": [
    "# Get best cross-validated MSE from the grid search\n",
    "print(\"Expected MSE for predicting 1989 salaries:\", -ridge_fitted.best_score_)"
   ]
  },
  {
   "cell_type": "markdown",
   "metadata": {},
   "source": [
    "## C. Lasso Regression"
   ]
  },
  {
   "cell_type": "code",
   "execution_count": 82,
   "metadata": {
    "vscode": {
     "languageId": "python"
    }
   },
   "outputs": [
    {
     "name": "stderr",
     "output_type": "stream",
     "text": [
      "/Applications/anaconda3/lib/python3.12/site-packages/sklearn/linear_model/_coordinate_descent.py:678: ConvergenceWarning: Objective did not converge. You might want to increase the number of iterations, check the scale of the features or consider increasing regularisation. Duality gap: 1.180e+07, tolerance: 4.773e+03\n",
      "/Applications/anaconda3/lib/python3.12/site-packages/sklearn/linear_model/_coordinate_descent.py:678: ConvergenceWarning: Objective did not converge. You might want to increase the number of iterations, check the scale of the features or consider increasing regularisation. Duality gap: 1.065e+07, tolerance: 3.665e+03\n",
      "/Applications/anaconda3/lib/python3.12/site-packages/sklearn/linear_model/_coordinate_descent.py:678: ConvergenceWarning: Objective did not converge. You might want to increase the number of iterations, check the scale of the features or consider increasing regularisation. Duality gap: 1.198e+07, tolerance: 4.051e+03\n",
      "/Applications/anaconda3/lib/python3.12/site-packages/sklearn/linear_model/_coordinate_descent.py:678: ConvergenceWarning: Objective did not converge. You might want to increase the number of iterations, check the scale of the features or consider increasing regularisation. Duality gap: 9.598e+06, tolerance: 4.314e+03\n",
      "/Applications/anaconda3/lib/python3.12/site-packages/sklearn/linear_model/_coordinate_descent.py:678: ConvergenceWarning: Objective did not converge. You might want to increase the number of iterations, check the scale of the features or consider increasing regularisation. Duality gap: 1.153e+07, tolerance: 4.496e+03\n",
      "/Applications/anaconda3/lib/python3.12/site-packages/sklearn/linear_model/_coordinate_descent.py:678: ConvergenceWarning: Objective did not converge. You might want to increase the number of iterations, check the scale of the features or consider increasing regularisation. Duality gap: 6.779e+06, tolerance: 4.773e+03\n",
      "/Applications/anaconda3/lib/python3.12/site-packages/sklearn/linear_model/_coordinate_descent.py:678: ConvergenceWarning: Objective did not converge. You might want to increase the number of iterations, check the scale of the features or consider increasing regularisation. Duality gap: 8.194e+06, tolerance: 3.665e+03\n",
      "/Applications/anaconda3/lib/python3.12/site-packages/sklearn/linear_model/_coordinate_descent.py:678: ConvergenceWarning: Objective did not converge. You might want to increase the number of iterations, check the scale of the features or consider increasing regularisation. Duality gap: 9.990e+06, tolerance: 4.051e+03\n"
     ]
    },
    {
     "name": "stderr",
     "output_type": "stream",
     "text": [
      "/Applications/anaconda3/lib/python3.12/site-packages/sklearn/linear_model/_coordinate_descent.py:678: ConvergenceWarning: Objective did not converge. You might want to increase the number of iterations, check the scale of the features or consider increasing regularisation. Duality gap: 5.980e+06, tolerance: 4.314e+03\n",
      "/Applications/anaconda3/lib/python3.12/site-packages/sklearn/linear_model/_coordinate_descent.py:678: ConvergenceWarning: Objective did not converge. You might want to increase the number of iterations, check the scale of the features or consider increasing regularisation. Duality gap: 9.740e+06, tolerance: 4.496e+03\n",
      "/Applications/anaconda3/lib/python3.12/site-packages/sklearn/linear_model/_coordinate_descent.py:678: ConvergenceWarning: Objective did not converge. You might want to increase the number of iterations, check the scale of the features or consider increasing regularisation. Duality gap: 4.850e+04, tolerance: 4.773e+03\n",
      "/Applications/anaconda3/lib/python3.12/site-packages/sklearn/linear_model/_coordinate_descent.py:678: ConvergenceWarning: Objective did not converge. You might want to increase the number of iterations, check the scale of the features or consider increasing regularisation. Duality gap: 3.308e+05, tolerance: 3.665e+03\n",
      "/Applications/anaconda3/lib/python3.12/site-packages/sklearn/linear_model/_coordinate_descent.py:678: ConvergenceWarning: Objective did not converge. You might want to increase the number of iterations, check the scale of the features or consider increasing regularisation. Duality gap: 4.889e+05, tolerance: 4.051e+03\n",
      "/Applications/anaconda3/lib/python3.12/site-packages/sklearn/linear_model/_coordinate_descent.py:678: ConvergenceWarning: Objective did not converge. You might want to increase the number of iterations, check the scale of the features or consider increasing regularisation. Duality gap: 3.058e+05, tolerance: 4.314e+03\n",
      "/Applications/anaconda3/lib/python3.12/site-packages/sklearn/linear_model/_coordinate_descent.py:678: ConvergenceWarning: Objective did not converge. You might want to increase the number of iterations, check the scale of the features or consider increasing regularisation. Duality gap: 1.366e+06, tolerance: 4.496e+03\n",
      "/Applications/anaconda3/lib/python3.12/site-packages/sklearn/linear_model/_coordinate_descent.py:678: ConvergenceWarning: Objective did not converge. You might want to increase the number of iterations, check the scale of the features or consider increasing regularisation. Duality gap: 5.423e+03, tolerance: 4.773e+03\n"
     ]
    },
    {
     "name": "stderr",
     "output_type": "stream",
     "text": [
      "/Applications/anaconda3/lib/python3.12/site-packages/sklearn/linear_model/_coordinate_descent.py:678: ConvergenceWarning: Objective did not converge. You might want to increase the number of iterations, check the scale of the features or consider increasing regularisation. Duality gap: 6.495e+03, tolerance: 4.314e+03\n"
     ]
    },
    {
     "name": "stdout",
     "output_type": "stream",
     "text": [
      "Cross-Validation Results for Alpha Values in Lasso Regression:\n",
      "   alphas         scores\n",
      "0   0.001  110587.805496\n",
      "1   0.010  110543.622361\n",
      "2   0.100  110095.047688\n",
      "3   1.000  108120.277446\n",
      "4  10.000  112995.351102\n",
      "Cross-Validation Results for Alpha Values in Lasso Regression:\n",
      "   alphas         scores\n",
      "0   0.001  110587.805496\n",
      "1   0.010  110543.622361\n",
      "2   0.100  110095.047688\n",
      "3   1.000  108120.277446\n",
      "4  10.000  112995.351102\n"
     ]
    }
   ],
   "source": [
    "lasso = Lasso()\n",
    "\n",
    "# Set up the Lasso regression pipeline\n",
    "lasso_pipeline = Pipeline([\n",
    "    (\"preprocessing\", ct),\n",
    "    (\"lasso_regression\", lasso)\n",
    "])\n",
    "\n",
    "# Perform grid search cross-validation to find the best alpha\n",
    "gscv_lasso = GridSearchCV(lasso_pipeline, alpha, cv=5, scoring=\"neg_mean_squared_error\")\n",
    "lasso_fitted = gscv_lasso.fit(X, y)\n",
    "\n",
    "# Convert MSE scores to positive values for readability\n",
    "positive_mse_scores = -lasso_fitted.cv_results_[\"mean_test_score\"]\n",
    "\n",
    "# Display alpha values and corresponding MSE scores\n",
    "results_df = pd.DataFrame({\n",
    "    \"alphas\": alpha[\"lasso_regression__alpha\"],\n",
    "    \"scores\": positive_mse_scores\n",
    "})\n",
    "\n",
    "print(\"Cross-Validation Results for Alpha Values in Lasso Regression:\")\n",
    "print(results_df)"
   ]
  },
  {
   "cell_type": "code",
   "execution_count": 89,
   "metadata": {
    "vscode": {
     "languageId": "python"
    }
   },
   "outputs": [
    {
     "data": {
      "text/html": [
       "<div>\n",
       "<style scoped>\n",
       "    .dataframe tbody tr th:only-of-type {\n",
       "        vertical-align: middle;\n",
       "    }\n",
       "\n",
       "    .dataframe tbody tr th {\n",
       "        vertical-align: top;\n",
       "    }\n",
       "\n",
       "    .dataframe thead th {\n",
       "        text-align: right;\n",
       "    }\n",
       "</style>\n",
       "<table border=\"1\" class=\"dataframe\">\n",
       "  <thead>\n",
       "    <tr style=\"text-align: right;\">\n",
       "      <th></th>\n",
       "      <th>Predictors</th>\n",
       "      <th>Coefficient</th>\n",
       "    </tr>\n",
       "  </thead>\n",
       "  <tbody>\n",
       "    <tr>\n",
       "      <th>16</th>\n",
       "      <td>CRuns</td>\n",
       "      <td>322.919372</td>\n",
       "    </tr>\n",
       "    <tr>\n",
       "      <th>6</th>\n",
       "      <td>AtBat</td>\n",
       "      <td>-301.965077</td>\n",
       "    </tr>\n",
       "    <tr>\n",
       "      <th>7</th>\n",
       "      <td>Hits</td>\n",
       "      <td>268.257422</td>\n",
       "    </tr>\n",
       "    <tr>\n",
       "      <th>18</th>\n",
       "      <td>CWalks</td>\n",
       "      <td>-159.303481</td>\n",
       "    </tr>\n",
       "    <tr>\n",
       "      <th>17</th>\n",
       "      <td>CRBI</td>\n",
       "      <td>129.397762</td>\n",
       "    </tr>\n",
       "    <tr>\n",
       "      <th>2</th>\n",
       "      <td>Division_E</td>\n",
       "      <td>111.335545</td>\n",
       "    </tr>\n",
       "    <tr>\n",
       "      <th>11</th>\n",
       "      <td>Walks</td>\n",
       "      <td>103.905910</td>\n",
       "    </tr>\n",
       "    <tr>\n",
       "      <th>12</th>\n",
       "      <td>Years</td>\n",
       "      <td>-71.479936</td>\n",
       "    </tr>\n",
       "    <tr>\n",
       "      <th>13</th>\n",
       "      <td>CAtBat</td>\n",
       "      <td>-66.681811</td>\n",
       "    </tr>\n",
       "    <tr>\n",
       "      <th>19</th>\n",
       "      <td>PutOuts</td>\n",
       "      <td>65.935549</td>\n",
       "    </tr>\n",
       "  </tbody>\n",
       "</table>\n",
       "</div>"
      ],
      "text/plain": [
       "    Predictors  Coefficient\n",
       "16       CRuns   322.919372\n",
       "6        AtBat  -301.965077\n",
       "7         Hits   268.257422\n",
       "18      CWalks  -159.303481\n",
       "17        CRBI   129.397762\n",
       "2   Division_E   111.335545\n",
       "11       Walks   103.905910\n",
       "12       Years   -71.479936\n",
       "13      CAtBat   -66.681811\n",
       "19     PutOuts    65.935549"
      ]
     },
     "execution_count": null,
     "metadata": {},
     "output_type": "execute_result"
    }
   ],
   "source": [
    "cat_features = lasso_pipeline.named_steps[\"preprocessing\"].named_transformers_[\"one_hot\"].get_feature_names_out(\n",
    "    input_features=X.select_dtypes(include=object).columns\n",
    ")\n",
    "num_features = X.select_dtypes(include=np.number).columns\n",
    "var_names = list(cat_features) + list(num_features)\n",
    "\n",
    "# Get the best model's coefficients\n",
    "lasso_coef = lasso_fitted.best_estimator_.named_steps[\"lasso_regression\"].coef_\n",
    "\n",
    "# Create a DataFrame to display feature names and corresponding coefficients\n",
    "coef_df = pd.DataFrame({\n",
    "    \"Predictors\": var_names,\n",
    "    \"Coefficient\": lasso_coef\n",
    "})\n",
    "\n",
    "# Sort coefficients by absolute value for importance\n",
    "coef_df = coef_df.reindex(coef_df['Coefficient'].abs().sort_values(ascending=False).index)\n",
    "\n",
    "coef_df.head(10)"
   ]
  },
  {
   "cell_type": "markdown",
   "metadata": {},
   "source": [
    "For each career run, salary increases by about $322.92.\n",
    "\n",
    "For each at bat, salary decreases by -$301.97.\n",
    "\n",
    "For each hit in the season, salary increases by $268.26\n",
    "\n",
    "For each career walk, salary decreaes by -$159.30\n",
    "\n",
    "For each career RBI, salary increases by $129.40\n"
   ]
  },
  {
   "cell_type": "code",
   "execution_count": 96,
   "metadata": {
    "vscode": {
     "languageId": "python"
    }
   },
   "outputs": [
    {
     "name": "stdout",
     "output_type": "stream",
     "text": [
      "Expected MSE for predicting 1989 salaries: 108120.27744636913\n",
      "Expected MSE for predicting 1989 salaries: 108120.27744636913\n"
     ]
    }
   ],
   "source": [
    "print(\"Expected MSE for predicting 1989 salaries:\", -lasso_fitted.best_score_)"
   ]
  },
  {
   "cell_type": "markdown",
   "metadata": {},
   "source": [
    "## D. Elastic Net"
   ]
  },
  {
   "cell_type": "code",
   "execution_count": 118,
   "metadata": {
    "vscode": {
     "languageId": "python"
    }
   },
   "outputs": [
    {
     "data": {
      "text/html": [
       "<div>\n",
       "<style scoped>\n",
       "    .dataframe tbody tr th:only-of-type {\n",
       "        vertical-align: middle;\n",
       "    }\n",
       "\n",
       "    .dataframe tbody tr th {\n",
       "        vertical-align: top;\n",
       "    }\n",
       "\n",
       "    .dataframe thead th {\n",
       "        text-align: right;\n",
       "    }\n",
       "</style>\n",
       "<table border=\"1\" class=\"dataframe\">\n",
       "  <thead>\n",
       "    <tr style=\"text-align: right;\">\n",
       "      <th></th>\n",
       "      <th>alpha</th>\n",
       "      <th>l1_ratio</th>\n",
       "      <th>MSE</th>\n",
       "    </tr>\n",
       "  </thead>\n",
       "  <tbody>\n",
       "    <tr>\n",
       "      <th>0</th>\n",
       "      <td>0.001</td>\n",
       "      <td>0.01</td>\n",
       "      <td>109065.903872</td>\n",
       "    </tr>\n",
       "    <tr>\n",
       "      <th>1</th>\n",
       "      <td>0.001</td>\n",
       "      <td>0.05</td>\n",
       "      <td>109102.918082</td>\n",
       "    </tr>\n",
       "    <tr>\n",
       "      <th>2</th>\n",
       "      <td>0.001</td>\n",
       "      <td>0.1</td>\n",
       "      <td>109151.297555</td>\n",
       "    </tr>\n",
       "    <tr>\n",
       "      <th>3</th>\n",
       "      <td>0.001</td>\n",
       "      <td>0.3</td>\n",
       "      <td>109372.345404</td>\n",
       "    </tr>\n",
       "    <tr>\n",
       "      <th>4</th>\n",
       "      <td>0.001</td>\n",
       "      <td>0.5</td>\n",
       "      <td>109650.866038</td>\n",
       "    </tr>\n",
       "    <tr>\n",
       "      <th>5</th>\n",
       "      <td>0.001</td>\n",
       "      <td>0.7</td>\n",
       "      <td>110013.253075</td>\n",
       "    </tr>\n",
       "    <tr>\n",
       "      <th>6</th>\n",
       "      <td>0.001</td>\n",
       "      <td>0.9</td>\n",
       "      <td>110509.504781</td>\n",
       "    </tr>\n",
       "    <tr>\n",
       "      <th>7</th>\n",
       "      <td>0.001</td>\n",
       "      <td>0.95</td>\n",
       "      <td>110663.988730</td>\n",
       "    </tr>\n",
       "    <tr>\n",
       "      <th>8</th>\n",
       "      <td>0.001</td>\n",
       "      <td>0.99</td>\n",
       "      <td>110798.979559</td>\n",
       "    </tr>\n",
       "    <tr>\n",
       "      <th>9</th>\n",
       "      <td>0.01</td>\n",
       "      <td>0.01</td>\n",
       "      <td>107620.139087</td>\n",
       "    </tr>\n",
       "    <tr>\n",
       "      <th>10</th>\n",
       "      <td>0.01</td>\n",
       "      <td>0.05</td>\n",
       "      <td>107622.820551</td>\n",
       "    </tr>\n",
       "    <tr>\n",
       "      <th>11</th>\n",
       "      <td>0.01</td>\n",
       "      <td>0.1</td>\n",
       "      <td>107628.386976</td>\n",
       "    </tr>\n",
       "    <tr>\n",
       "      <th>12</th>\n",
       "      <td>0.01</td>\n",
       "      <td>0.3</td>\n",
       "      <td>107682.044013</td>\n",
       "    </tr>\n",
       "    <tr>\n",
       "      <th>13</th>\n",
       "      <td>0.01</td>\n",
       "      <td>0.5</td>\n",
       "      <td>107816.277799</td>\n",
       "    </tr>\n",
       "    <tr>\n",
       "      <th>14</th>\n",
       "      <td>0.01</td>\n",
       "      <td>0.7</td>\n",
       "      <td>108124.175844</td>\n",
       "    </tr>\n",
       "    <tr>\n",
       "      <th>15</th>\n",
       "      <td>0.01</td>\n",
       "      <td>0.9</td>\n",
       "      <td>109033.839902</td>\n",
       "    </tr>\n",
       "    <tr>\n",
       "      <th>16</th>\n",
       "      <td>0.01</td>\n",
       "      <td>0.95</td>\n",
       "      <td>109623.189062</td>\n",
       "    </tr>\n",
       "    <tr>\n",
       "      <th>17</th>\n",
       "      <td>0.01</td>\n",
       "      <td>0.99</td>\n",
       "      <td>110454.658483</td>\n",
       "    </tr>\n",
       "    <tr>\n",
       "      <th>18</th>\n",
       "      <td>0.1</td>\n",
       "      <td>0.01</td>\n",
       "      <td>109897.050432</td>\n",
       "    </tr>\n",
       "    <tr>\n",
       "      <th>19</th>\n",
       "      <td>0.1</td>\n",
       "      <td>0.05</td>\n",
       "      <td>109829.215366</td>\n",
       "    </tr>\n",
       "    <tr>\n",
       "      <th>20</th>\n",
       "      <td>0.1</td>\n",
       "      <td>0.1</td>\n",
       "      <td>109740.082061</td>\n",
       "    </tr>\n",
       "    <tr>\n",
       "      <th>21</th>\n",
       "      <td>0.1</td>\n",
       "      <td>0.3</td>\n",
       "      <td>109328.290777</td>\n",
       "    </tr>\n",
       "    <tr>\n",
       "      <th>22</th>\n",
       "      <td>0.1</td>\n",
       "      <td>0.5</td>\n",
       "      <td>108804.089860</td>\n",
       "    </tr>\n",
       "    <tr>\n",
       "      <th>23</th>\n",
       "      <td>0.1</td>\n",
       "      <td>0.7</td>\n",
       "      <td>108148.475768</td>\n",
       "    </tr>\n",
       "    <tr>\n",
       "      <th>24</th>\n",
       "      <td>0.1</td>\n",
       "      <td>0.9</td>\n",
       "      <td>107595.016411</td>\n",
       "    </tr>\n",
       "    <tr>\n",
       "      <th>25</th>\n",
       "      <td>0.1</td>\n",
       "      <td>0.95</td>\n",
       "      <td>107771.641741</td>\n",
       "    </tr>\n",
       "    <tr>\n",
       "      <th>26</th>\n",
       "      <td>0.1</td>\n",
       "      <td>0.99</td>\n",
       "      <td>108803.780096</td>\n",
       "    </tr>\n",
       "    <tr>\n",
       "      <th>27</th>\n",
       "      <td>1</td>\n",
       "      <td>0.01</td>\n",
       "      <td>113775.302139</td>\n",
       "    </tr>\n",
       "    <tr>\n",
       "      <th>28</th>\n",
       "      <td>1</td>\n",
       "      <td>0.05</td>\n",
       "      <td>113676.992694</td>\n",
       "    </tr>\n",
       "    <tr>\n",
       "      <th>29</th>\n",
       "      <td>1</td>\n",
       "      <td>0.1</td>\n",
       "      <td>113552.173790</td>\n",
       "    </tr>\n",
       "    <tr>\n",
       "      <th>30</th>\n",
       "      <td>1</td>\n",
       "      <td>0.3</td>\n",
       "      <td>113023.117890</td>\n",
       "    </tr>\n",
       "    <tr>\n",
       "      <th>31</th>\n",
       "      <td>1</td>\n",
       "      <td>0.5</td>\n",
       "      <td>112467.192491</td>\n",
       "    </tr>\n",
       "    <tr>\n",
       "      <th>32</th>\n",
       "      <td>1</td>\n",
       "      <td>0.7</td>\n",
       "      <td>111749.674793</td>\n",
       "    </tr>\n",
       "    <tr>\n",
       "      <th>33</th>\n",
       "      <td>1</td>\n",
       "      <td>0.9</td>\n",
       "      <td>110052.266158</td>\n",
       "    </tr>\n",
       "    <tr>\n",
       "      <th>34</th>\n",
       "      <td>1</td>\n",
       "      <td>0.95</td>\n",
       "      <td>109003.475514</td>\n",
       "    </tr>\n",
       "    <tr>\n",
       "      <th>35</th>\n",
       "      <td>1</td>\n",
       "      <td>0.99</td>\n",
       "      <td>107546.193492</td>\n",
       "    </tr>\n",
       "    <tr>\n",
       "      <th>36</th>\n",
       "      <td>10</td>\n",
       "      <td>0.01</td>\n",
       "      <td>131904.500436</td>\n",
       "    </tr>\n",
       "    <tr>\n",
       "      <th>37</th>\n",
       "      <td>10</td>\n",
       "      <td>0.05</td>\n",
       "      <td>131355.458409</td>\n",
       "    </tr>\n",
       "    <tr>\n",
       "      <th>38</th>\n",
       "      <td>10</td>\n",
       "      <td>0.1</td>\n",
       "      <td>130644.381601</td>\n",
       "    </tr>\n",
       "    <tr>\n",
       "      <th>39</th>\n",
       "      <td>10</td>\n",
       "      <td>0.3</td>\n",
       "      <td>127499.329762</td>\n",
       "    </tr>\n",
       "    <tr>\n",
       "      <th>40</th>\n",
       "      <td>10</td>\n",
       "      <td>0.5</td>\n",
       "      <td>123826.676915</td>\n",
       "    </tr>\n",
       "    <tr>\n",
       "      <th>41</th>\n",
       "      <td>10</td>\n",
       "      <td>0.7</td>\n",
       "      <td>119625.937229</td>\n",
       "    </tr>\n",
       "    <tr>\n",
       "      <th>42</th>\n",
       "      <td>10</td>\n",
       "      <td>0.9</td>\n",
       "      <td>114812.475190</td>\n",
       "    </tr>\n",
       "    <tr>\n",
       "      <th>43</th>\n",
       "      <td>10</td>\n",
       "      <td>0.95</td>\n",
       "      <td>113290.608743</td>\n",
       "    </tr>\n",
       "    <tr>\n",
       "      <th>44</th>\n",
       "      <td>10</td>\n",
       "      <td>0.99</td>\n",
       "      <td>112067.082789</td>\n",
       "    </tr>\n",
       "  </tbody>\n",
       "</table>\n",
       "</div>"
      ],
      "text/plain": [
       "    alpha l1_ratio            MSE\n",
       "0   0.001     0.01  109065.903872\n",
       "1   0.001     0.05  109102.918082\n",
       "2   0.001      0.1  109151.297555\n",
       "3   0.001      0.3  109372.345404\n",
       "4   0.001      0.5  109650.866038\n",
       "5   0.001      0.7  110013.253075\n",
       "6   0.001      0.9  110509.504781\n",
       "7   0.001     0.95  110663.988730\n",
       "8   0.001     0.99  110798.979559\n",
       "9    0.01     0.01  107620.139087\n",
       "10   0.01     0.05  107622.820551\n",
       "11   0.01      0.1  107628.386976\n",
       "12   0.01      0.3  107682.044013\n",
       "13   0.01      0.5  107816.277799\n",
       "14   0.01      0.7  108124.175844\n",
       "15   0.01      0.9  109033.839902\n",
       "16   0.01     0.95  109623.189062\n",
       "17   0.01     0.99  110454.658483\n",
       "18    0.1     0.01  109897.050432\n",
       "19    0.1     0.05  109829.215366\n",
       "20    0.1      0.1  109740.082061\n",
       "21    0.1      0.3  109328.290777\n",
       "22    0.1      0.5  108804.089860\n",
       "23    0.1      0.7  108148.475768\n",
       "24    0.1      0.9  107595.016411\n",
       "25    0.1     0.95  107771.641741\n",
       "26    0.1     0.99  108803.780096\n",
       "27      1     0.01  113775.302139\n",
       "28      1     0.05  113676.992694\n",
       "29      1      0.1  113552.173790\n",
       "30      1      0.3  113023.117890\n",
       "31      1      0.5  112467.192491\n",
       "32      1      0.7  111749.674793\n",
       "33      1      0.9  110052.266158\n",
       "34      1     0.95  109003.475514\n",
       "35      1     0.99  107546.193492\n",
       "36     10     0.01  131904.500436\n",
       "37     10     0.05  131355.458409\n",
       "38     10      0.1  130644.381601\n",
       "39     10      0.3  127499.329762\n",
       "40     10      0.5  123826.676915\n",
       "41     10      0.7  119625.937229\n",
       "42     10      0.9  114812.475190\n",
       "43     10     0.95  113290.608743\n",
       "44     10     0.99  112067.082789"
      ]
     },
     "execution_count": null,
     "metadata": {},
     "output_type": "execute_result"
    }
   ],
   "source": [
    "# Set up the Elastic Net pipeline\n",
    "elastic_pipeline = Pipeline(\n",
    "    [(\"preprocessing\", ct),\n",
    "     (\"elastic_net\", ElasticNet(max_iter=10000))]\n",
    ").set_output(transform=\"pandas\")\n",
    "\n",
    "# Define lambda and l1_ratio\n",
    "alphas = {\n",
    "    \"elastic_net__alpha\": [0.001, 0.01, 0.1, 1, 10],\n",
    "    \"elastic_net__l1_ratio\": [0.01, 0.05, 0.1, 0.3, 0.5, 0.7, 0.9, 0.95, 0.99]\n",
    "}\n",
    "\n",
    "# Perform grid search cross-validation\n",
    "gscv_elastic = GridSearchCV(elastic_net_regression, alphas, cv=5, scoring=\"neg_mean_squared_error\")\n",
    "elastic_fitted = gscv_elastic.fit(X, y)\n",
    "\n",
    "# Convert MSE scores to positive values for readability\n",
    "positive_mse_scores = -elastic_fitted.cv_results_[\"mean_test_score\"]\n",
    "\n",
    "# Display alpha and l1_ratio with corresponding MSE scores\n",
    "results_df = pd.DataFrame({\n",
    "    \"alpha\": elastic_fitted.cv_results_[\"param_elastic_net__alpha\"],\n",
    "    \"l1_ratio\": elastic_fitted.cv_results_[\"param_elastic_net__l1_ratio\"],\n",
    "    \"MSE\": positive_mse_scores\n",
    "})\n",
    "\n",
    "results_df"
   ]
  },
  {
   "cell_type": "code",
   "execution_count": 123,
   "metadata": {
    "vscode": {
     "languageId": "python"
    }
   },
   "outputs": [
    {
     "data": {
      "text/html": [
       "<div>\n",
       "<style scoped>\n",
       "    .dataframe tbody tr th:only-of-type {\n",
       "        vertical-align: middle;\n",
       "    }\n",
       "\n",
       "    .dataframe tbody tr th {\n",
       "        vertical-align: top;\n",
       "    }\n",
       "\n",
       "    .dataframe thead th {\n",
       "        text-align: right;\n",
       "    }\n",
       "</style>\n",
       "<table border=\"1\" class=\"dataframe\">\n",
       "  <thead>\n",
       "    <tr style=\"text-align: right;\">\n",
       "      <th></th>\n",
       "      <th>Predictors</th>\n",
       "      <th>Coefficient</th>\n",
       "    </tr>\n",
       "  </thead>\n",
       "  <tbody>\n",
       "    <tr>\n",
       "      <th>6</th>\n",
       "      <td>AtBat</td>\n",
       "      <td>-220.715293</td>\n",
       "    </tr>\n",
       "    <tr>\n",
       "      <th>7</th>\n",
       "      <td>Hits</td>\n",
       "      <td>190.588113</td>\n",
       "    </tr>\n",
       "    <tr>\n",
       "      <th>16</th>\n",
       "      <td>CRuns</td>\n",
       "      <td>181.655518</td>\n",
       "    </tr>\n",
       "    <tr>\n",
       "      <th>18</th>\n",
       "      <td>CWalks</td>\n",
       "      <td>-110.208856</td>\n",
       "    </tr>\n",
       "    <tr>\n",
       "      <th>11</th>\n",
       "      <td>Walks</td>\n",
       "      <td>87.602756</td>\n",
       "    </tr>\n",
       "    <tr>\n",
       "      <th>17</th>\n",
       "      <td>CRBI</td>\n",
       "      <td>82.882795</td>\n",
       "    </tr>\n",
       "    <tr>\n",
       "      <th>14</th>\n",
       "      <td>CHits</td>\n",
       "      <td>79.361123</td>\n",
       "    </tr>\n",
       "    <tr>\n",
       "      <th>12</th>\n",
       "      <td>Years</td>\n",
       "      <td>-77.460591</td>\n",
       "    </tr>\n",
       "    <tr>\n",
       "      <th>19</th>\n",
       "      <td>PutOuts</td>\n",
       "      <td>63.822676</td>\n",
       "    </tr>\n",
       "    <tr>\n",
       "      <th>3</th>\n",
       "      <td>Division_W</td>\n",
       "      <td>-57.211874</td>\n",
       "    </tr>\n",
       "  </tbody>\n",
       "</table>\n",
       "</div>"
      ],
      "text/plain": [
       "    Predictors  Coefficient\n",
       "6        AtBat  -220.715293\n",
       "7         Hits   190.588113\n",
       "16       CRuns   181.655518\n",
       "18      CWalks  -110.208856\n",
       "11       Walks    87.602756\n",
       "17        CRBI    82.882795\n",
       "14       CHits    79.361123\n",
       "12       Years   -77.460591\n",
       "19     PutOuts    63.822676\n",
       "3   Division_W   -57.211874"
      ]
     },
     "execution_count": null,
     "metadata": {},
     "output_type": "execute_result"
    }
   ],
   "source": [
    "# Get best parameters and fit the pipeline with optimized hyperparameters\n",
    "best_alpha = elastic_fitted.best_params_[\"elastic_net__alpha\"]\n",
    "best_l1_ratio = elastic_fitted.best_params_[\"elastic_net__l1_ratio\"]\n",
    "\n",
    "elastic_pipeline.set_params(\n",
    "    elastic_net__alpha=best_alpha,\n",
    "    elastic_net__l1_ratio=best_l1_ratio\n",
    ")\n",
    "elastic_pipeline.fit(X, y)\n",
    "\n",
    "# Retrieve feature names and coefficients from the best model\n",
    "cat_features = elastic_pipeline.named_steps[\"preprocessing\"].named_transformers_[\"one_hot\"].get_feature_names_out(\n",
    "    input_features=X.select_dtypes(include=object).columns\n",
    ")\n",
    "num_features = X.select_dtypes(include=np.number).columns\n",
    "variables = list(cat_features) + list(num_features)\n",
    "elastic_net_coef = elastic_pipeline.named_steps[\"elastic_net\"].coef_\n",
    "\n",
    "# Display most significant coefficients\n",
    "coef_df = pd.DataFrame({\n",
    "    \"Predictors\": variables,\n",
    "    \"Coefficient\": elastic_net_coef\n",
    "})\n",
    "\n",
    "# Sort coefficients by absolute value for significance\n",
    "coef_df = coef_df.reindex(coef_df['Coefficient'].abs().sort_values(ascending=False).index)\n",
    "\n",
    "coef_df.head(10)"
   ]
  },
  {
   "cell_type": "markdown",
   "metadata": {},
   "source": [
    "For each at bat, salary decreases by -$220.72\n",
    "\n",
    "For each hit during the season, salary increases by $190.59\n",
    "\n",
    "For each career runs, salary increases by $181.66\n",
    "\n",
    "For each career walks, salary decreases by -$110.21\n",
    "\n",
    "For each walks during the season, salary increases by $87.60"
   ]
  },
  {
   "cell_type": "code",
   "execution_count": 126,
   "metadata": {
    "vscode": {
     "languageId": "python"
    }
   },
   "outputs": [
    {
     "name": "stdout",
     "output_type": "stream",
     "text": [
      "Expected MSE for predicting 1989 salaries with Elastic Net: 107546.19349237923\n",
      "Expected MSE for predicting 1989 salaries with Elastic Net: 107546.19349237923\n"
     ]
    }
   ],
   "source": [
    "# MSE for predicting 1989 salaries\n",
    "print(\"Expected MSE for predicting 1989 salaries with Elastic Net:\", -elastic_fitted.best_score_)"
   ]
  },
  {
   "cell_type": "markdown",
   "metadata": {},
   "source": [
    "# Part II. Variable Selection\n",
    "Based on the above results, decide on:\n",
    "\n",
    "Which numeric variable is most important.\n",
    "CRuns\n",
    "\n",
    "Which five numeric variables are most important\n",
    "CRuns, AtBat, CAtBat, Hits, CRBI\n",
    "\n",
    "Which categorical variable is most important\n",
    "Division"
   ]
  },
  {
   "cell_type": "markdown",
   "metadata": {},
   "source": [
    "For each of the four model specifications, compare the following possible feature sets:\n",
    "\n",
    "Using only the one best numeric variable.\n",
    "\n",
    "Using only the five best variables.\n",
    "\n",
    "Using the five best numeric variables and their interactions with the one best categorical variable.\n",
    "\n",
    "Report which combination of features and model performed best, based on the validation metric of MSE.\n",
    "\n",
    "(Note: $\\lambda$ and $\\alpha$ must be re-tuned for each feature set.)"
   ]
  },
  {
   "cell_type": "code",
   "execution_count": 275,
   "metadata": {
    "vscode": {
     "languageId": "python"
    }
   },
   "outputs": [],
   "source": [
    "# Define Column Transformer for Dummies and Scaling\n",
    "def create_column_transformer():\n",
    "    return ColumnTransformer([\n",
    "        (\"one_hot\", OneHotEncoder(sparse_output=False, handle_unknown='ignore'), make_column_selector(dtype_include=object)),\n",
    "        (\"scale\", StandardScaler(), make_column_selector(dtype_include=np.number))\n",
    "    ], remainder=\"passthrough\").set_output(transform=\"pandas\")\n",
    "\n",
    "# Interaction Transformer based on feature data\n",
    "def create_interaction_transformer(feature_data):\n",
    "    interaction_columns = {\n",
    "        'Hits': 'scale__Hits', \n",
    "        'PutOuts': 'scale__PutOuts', \n",
    "        'Walks': 'scale__Walks', \n",
    "        'CRBI': 'scale__CRBI', \n",
    "        'CRuns': 'scale__CRuns',\n",
    "        'Division_E': 'one_hot__Division_E'\n",
    "    }\n",
    "    \n",
    "    available_interactions = [\n",
    "        (name, PolynomialFeatures(interaction_only=True, include_bias=False), [interaction_columns[col] for col in cols])\n",
    "        for name, cols in {\n",
    "            'hits_division': ['Hits', 'Division_E'],\n",
    "            'putouts_division': ['PutOuts', 'Division_E'],\n",
    "            'walks_division': ['Walks', 'Division_E'],\n",
    "            'crbi_division': ['CRBI', 'Division_E'],\n",
    "            'cruns_division': ['CRuns', 'Division_E']\n",
    "        }.items() if all(col in feature_data.columns for col in cols)\n",
    "    ]\n",
    "    \n",
    "    return ColumnTransformer(available_interactions, remainder=\"passthrough\").set_output(transform=\"pandas\")\n",
    "\n",
    "# Base column transformer\n",
    "ct = create_column_transformer()\n",
    "\n",
    "# Function to calculate MSE\n",
    "def get_mse(model, feature_data, target, alpha=None, l1_ratio=None):\n",
    "    # Set alpha or lambda if provided\n",
    "    if isinstance(model, Ridge) or isinstance(model, Lasso):\n",
    "        model.set_params(alpha=alpha)\n",
    "    elif isinstance(model, ElasticNet):\n",
    "        model.set_params(alpha=alpha, l1_ratio=l1_ratio)\n",
    "\n",
    "    pipeline = Pipeline([(\"preprocess\", ct), (\"model\", model)])\n",
    "    \n",
    "    # Calculate and return MSE from cross-validation\n",
    "    mse_scores = cross_val_score(pipeline, feature_data, target, cv=5, scoring=\"neg_mean_squared_error\")\n",
    "    mse = -mse_scores.mean()\n",
    "    print(f\"Cross-validated MSE for {model.__class__.__name__}: {mse}\")\n",
    "    return mse\n",
    "\n",
    "# Function for Hyperparameter Tuning with Interactions\n",
    "def tune_with_interactions(model, feature_data, target):\n",
    "    # Set up the interaction transformer if multiple features\n",
    "    if feature_data.shape[1] > 1:\n",
    "        interaction_transformer = create_interaction_transformer(feature_data)\n",
    "        pipeline = Pipeline([\n",
    "            (\"preprocess\", ct),\n",
    "            (\"interactions\", interaction_transformer),\n",
    "            (\"model\", model)\n",
    "        ])\n",
    "    else:\n",
    "        pipeline = Pipeline([\n",
    "            (\"preprocess\", ct),\n",
    "            (\"model\", model)\n",
    "        ])\n",
    "    \n",
    "    # Define separate grids for each model type\n",
    "    if isinstance(model, ElasticNet):\n",
    "        param_grid = {'model__alpha': [0.001, 0.01, 0.1, 1, 10], 'model__l1_ratio': [0.1, 0.5, 0.9]}\n",
    "    else:\n",
    "        param_grid = {'model__alpha': [0.001, 0.01, 0.1, 1, 10]}\n",
    "\n",
    "    # Perform grid search with cross-validation\n",
    "    grid_search = GridSearchCV(pipeline, param_grid, cv=5, scoring='r2')\n",
    "    grid_search.fit(feature_data, target)\n",
    "\n",
    "    # Extract best parameters\n",
    "    best_params = {\n",
    "        \"alpha\": grid_search.best_params_['model__alpha'],\n",
    "        \"l1_ratio\": grid_search.best_params_.get('model__l1_ratio', None)\n",
    "    }\n",
    "    best_score = grid_search.best_score_\n",
    "    print(f\"Tuned results for {model.__class__.__name__}: Alpha: {best_params['alpha']}, L1 Ratio: {best_params['l1_ratio']}, R2: {best_score}\")\n",
    "    return best_params"
   ]
  },
  {
   "cell_type": "markdown",
   "metadata": {},
   "source": [
    "## Linear"
   ]
  },
  {
   "cell_type": "code",
   "execution_count": 276,
   "metadata": {
    "vscode": {
     "languageId": "python"
    }
   },
   "outputs": [
    {
     "name": "stdout",
     "output_type": "stream",
     "text": [
      "Cross-validated MSE for LinearRegression: 126308.142061745\n",
      "Cross-validated MSE for LinearRegression: 126308.142061745\n"
     ]
    },
    {
     "data": {
      "text/plain": [
       "126308.142061745"
      ]
     },
     "execution_count": null,
     "metadata": {},
     "output_type": "execute_result"
    }
   ],
   "source": [
    "# Best numeric variable as predictor\n",
    "\n",
    "# Specifying X \n",
    "X = hitters[['CRuns']]  \n",
    "\n",
    "# Calculate MSE for Linear Regression using the best numeric variable\n",
    "get_mse(LinearRegression(), feature_data=X, target=y)"
   ]
  },
  {
   "cell_type": "code",
   "execution_count": 262,
   "metadata": {
    "vscode": {
     "languageId": "python"
    }
   },
   "outputs": [
    {
     "name": "stdout",
     "output_type": "stream",
     "text": [
      "Cross-validated MSE for LinearRegression: 110613.63340859996\n",
      "Cross-validated MSE for LinearRegression: 110613.63340859996\n"
     ]
    },
    {
     "data": {
      "text/plain": [
       "110613.63340859996"
      ]
     },
     "execution_count": null,
     "metadata": {},
     "output_type": "execute_result"
    }
   ],
   "source": [
    "# 5 best numeric variable as predictor\n",
    "\n",
    "# Specifying X\n",
    "X = hitters[['CRuns', 'AtBat', 'CAtBat', 'Hits', 'CRBI']]  \n",
    "\n",
    "# Calculate MSE for Linear Regression using the best numeric variable\n",
    "get_mse(LinearRegression(), feature_data=X, target=y)"
   ]
  },
  {
   "cell_type": "code",
   "execution_count": 263,
   "metadata": {
    "vscode": {
     "languageId": "python"
    }
   },
   "outputs": [
    {
     "name": "stdout",
     "output_type": "stream",
     "text": [
      "Cross-validated MSE for LinearRegression: 111083.23832786758\n",
      "Cross-validated MSE for LinearRegression: 111083.23832786758\n"
     ]
    },
    {
     "data": {
      "text/plain": [
       "111083.23832786758"
      ]
     },
     "execution_count": null,
     "metadata": {},
     "output_type": "execute_result"
    }
   ],
   "source": [
    "# 5 best numeric variables and interactions with best categorical variable\n",
    "\n",
    "X = hitters[['CRuns','CRBI', 'Hits', 'PutOuts', 'Walks','Division']]\n",
    "\n",
    "get_mse(LinearRegression(), feature_data=X, target=y)"
   ]
  },
  {
   "cell_type": "markdown",
   "metadata": {},
   "source": [
    "## Ridge"
   ]
  },
  {
   "cell_type": "code",
   "execution_count": 277,
   "metadata": {
    "vscode": {
     "languageId": "python"
    }
   },
   "outputs": [
    {
     "name": "stdout",
     "output_type": "stream",
     "text": [
      "Tuned results for Ridge: Alpha: 10, L1 Ratio: None, R2: 0.2319901518881867\n",
      "Best Lambda Value: 10.0\n",
      "Cross-validated MSE for Ridge: 126265.14518438917\n",
      "Tuned results for Ridge: Alpha: 10, L1 Ratio: None, R2: 0.2319901518881867\n",
      "Best Lambda Value: 10.0\n",
      "Cross-validated MSE for Ridge: 126265.14518438917\n"
     ]
    },
    {
     "data": {
      "text/plain": [
       "126265.14518438917"
      ]
     },
     "execution_count": null,
     "metadata": {},
     "output_type": "execute_result"
    }
   ],
   "source": [
    "# Best numeric variable as predictor\n",
    "\n",
    "X = hitters[['CRuns']]  \n",
    "\n",
    "# Tuning for Feature Set\n",
    "best_lambda = float(tune_with_interactions(Ridge(), feature_data=X, target=y)['alpha'])\n",
    "print(\"Best Lambda Value:\", best_lambda)\n",
    "\n",
    "# Calculate MSE using the best lambda value\n",
    "get_mse(Ridge(), feature_data=X, target=y, alpha=best_lambda)"
   ]
  },
  {
   "cell_type": "code",
   "execution_count": 278,
   "metadata": {
    "vscode": {
     "languageId": "python"
    }
   },
   "outputs": [
    {
     "name": "stdout",
     "output_type": "stream",
     "text": [
      "Tuned results for Ridge: Alpha: 1, L1 Ratio: None, R2: 0.3081315321451029\n",
      "Best Lambda Value: 1.0\n",
      "Cross-validated MSE for Ridge: 110629.01564902542\n",
      "Tuned results for Ridge: Alpha: 1, L1 Ratio: None, R2: 0.3081315321451029\n",
      "Best Lambda Value: 1.0\n",
      "Cross-validated MSE for Ridge: 110629.01564902542\n"
     ]
    },
    {
     "data": {
      "text/plain": [
       "110629.01564902542"
      ]
     },
     "execution_count": null,
     "metadata": {},
     "output_type": "execute_result"
    }
   ],
   "source": [
    "# 5 best numeric variables\n",
    "\n",
    "X = hitters[['CRuns', 'AtBat', 'CAtBat', 'Hits', 'CRBI']]  \n",
    "\n",
    "# Tuning for Feature Set\n",
    "best_lambda = float(tune_with_interactions(Ridge(), feature_data=X, target=y)['alpha'])\n",
    "print(\"Best Lambda Value:\", best_lambda)\n",
    "\n",
    "# Calculate MSE using the best lambda value\n",
    "get_mse(Ridge(), feature_data=X, target=y, alpha=best_lambda)"
   ]
  },
  {
   "cell_type": "code",
   "execution_count": 279,
   "metadata": {
    "vscode": {
     "languageId": "python"
    }
   },
   "outputs": [
    {
     "name": "stdout",
     "output_type": "stream",
     "text": [
      "Tuned results for Ridge: Alpha: 1, L1 Ratio: None, R2: 0.31028339381417425\n",
      "Best Lambda Value: 1.0\n",
      "Cross-validated MSE for Ridge: 108535.39377820064\n",
      "Tuned results for Ridge: Alpha: 1, L1 Ratio: None, R2: 0.31028339381417425\n",
      "Best Lambda Value: 1.0\n",
      "Cross-validated MSE for Ridge: 108535.39377820064\n"
     ]
    },
    {
     "data": {
      "text/plain": [
       "108535.39377820064"
      ]
     },
     "execution_count": null,
     "metadata": {},
     "output_type": "execute_result"
    }
   ],
   "source": [
    "# 5 best numeric variables and interactions with best categorical variable\n",
    "\n",
    "X = hitters[['CRuns', 'AtBat', 'CAtBat', 'Hits', 'CRBI', 'Division']]  \n",
    "\n",
    "# Tuning for Feature Set\n",
    "best_lambda = float(tune_with_interactions(Ridge(), feature_data=X, target=y)['alpha'])\n",
    "print(\"Best Lambda Value:\", best_lambda)\n",
    "\n",
    "# Calculate MSE using the best lambda value\n",
    "get_mse(Ridge(), feature_data=X, target=y, alpha=best_lambda)"
   ]
  },
  {
   "cell_type": "markdown",
   "metadata": {},
   "source": [
    "## Lasso"
   ]
  },
  {
   "cell_type": "code",
   "execution_count": 310,
   "metadata": {
    "vscode": {
     "languageId": "python"
    }
   },
   "outputs": [],
   "source": [
    "# Function to calculate MSE with preprocessed data\n",
    "def get_mse(model, X_transformed, y, alpha=None):\n",
    "    if alpha is not None:\n",
    "        model.set_params(alpha=alpha)\n",
    "    pipeline = Pipeline([(\"model\", model)])\n",
    "    mse_scores = cross_val_score(pipeline, X_transformed, y, cv=5, scoring=\"neg_mean_squared_error\")\n",
    "    mse = -mse_scores.mean()\n",
    "    print(f\"Cross-validated MSE for {model.__class__.__name__}: {mse}\")\n",
    "    return mse\n",
    "\n",
    "# Tuning function for Lasso model with preprocessed data\n",
    "def tune_with_lasso(model, X_transformed, y):\n",
    "    pipeline = Pipeline([(\"model\", model)])\n",
    "    param_grid = {'model__alpha': [0.001, 0.01, 0.1, 1, 10]}\n",
    "    grid_search = GridSearchCV(pipeline, param_grid, cv=5, scoring='r2')\n",
    "    grid_search.fit(X_transformed, y)\n",
    "    best_alpha = grid_search.best_params_['model__alpha']\n",
    "    print(f\"Best Alpha for Lasso: {best_alpha}, R2: {grid_search.best_score_}\")\n",
    "    return best_alpha"
   ]
  },
  {
   "cell_type": "code",
   "execution_count": 311,
   "metadata": {
    "vscode": {
     "languageId": "python"
    }
   },
   "outputs": [
    {
     "name": "stdout",
     "output_type": "stream",
     "text": [
      "Best Alpha for Lasso: 0.1, R2: 0.3092802178087622\n",
      "Cross-validated MSE for Lasso: 108525.46164164218\n",
      "Best Alpha for Lasso: 0.1, R2: 0.3092802178087622\n",
      "Cross-validated MSE for Lasso: 108525.46164164218\n"
     ]
    },
    {
     "data": {
      "text/plain": [
       "108525.46164164218"
      ]
     },
     "execution_count": null,
     "metadata": {},
     "output_type": "execute_result"
    }
   ],
   "source": [
    "# Best numeric variable as predictor\n",
    "\n",
    "X = hitters[['CRuns']]  \n",
    "\n",
    "# Tuning for Feature Set\n",
    "best_lambda = tune_with_lasso(Lasso(), X_transformed, y)\n",
    "get_mse(Lasso(alpha=best_lambda), X_transformed, y)"
   ]
  },
  {
   "cell_type": "code",
   "execution_count": 312,
   "metadata": {
    "vscode": {
     "languageId": "python"
    }
   },
   "outputs": [
    {
     "name": "stdout",
     "output_type": "stream",
     "text": [
      "Best Alpha for Lasso: 0.1, R2: 0.3092802178087622\n",
      "Cross-validated MSE for Lasso: 108525.46164164218\n",
      "Best Alpha for Lasso: 0.1, R2: 0.3092802178087622\n",
      "Cross-validated MSE for Lasso: 108525.46164164218\n"
     ]
    },
    {
     "data": {
      "text/plain": [
       "108525.46164164218"
      ]
     },
     "execution_count": null,
     "metadata": {},
     "output_type": "execute_result"
    }
   ],
   "source": [
    "# 5 best numeric variables \n",
    "X = hitters[['CRuns', 'AtBat', 'CAtBat', 'Hits', 'CRBI']]  \n",
    "\n",
    "# Tuning for Feature Set\n",
    "best_lambda = tune_with_lasso(Lasso(), X_transformed, y)\n",
    "get_mse(Lasso(alpha=best_lambda), X_transformed, y)"
   ]
  },
  {
   "cell_type": "code",
   "execution_count": 313,
   "metadata": {
    "vscode": {
     "languageId": "python"
    }
   },
   "outputs": [
    {
     "name": "stdout",
     "output_type": "stream",
     "text": [
      "Best Alpha for Lasso: 0.1, R2: 0.3092802178087622\n",
      "Cross-validated MSE for Lasso: 108525.46164164218\n",
      "Best Alpha for Lasso: 0.1, R2: 0.3092802178087622\n",
      "Cross-validated MSE for Lasso: 108525.46164164218\n"
     ]
    },
    {
     "data": {
      "text/plain": [
       "108525.46164164218"
      ]
     },
     "execution_count": null,
     "metadata": {},
     "output_type": "execute_result"
    }
   ],
   "source": [
    "# 5 best numeric variables and interactions with best categorical variable\n",
    "X = hitters[['CRuns', 'AtBat', 'CAtBat', 'Hits', 'CRBI','Division']]  \n",
    "\n",
    "# Tuning for Feature Set\n",
    "best_lambda = tune_with_lasso(Lasso(), X_transformed, y)\n",
    "get_mse(Lasso(alpha=best_lambda), X_transformed, y)"
   ]
  },
  {
   "cell_type": "markdown",
   "metadata": {},
   "source": [
    "## Elastic Net"
   ]
  },
  {
   "cell_type": "code",
   "execution_count": 296,
   "metadata": {
    "vscode": {
     "languageId": "python"
    }
   },
   "outputs": [
    {
     "name": "stdout",
     "output_type": "stream",
     "text": [
      "Tuned results for ElasticNet: Alpha: 0.1, L1 Ratio: 0.1, R2: 0.23219409390951898\n",
      "Best Lambda Value (alpha): 0.1\n",
      "Best L1 Ratio: 0.1\n",
      "Cross-validated MSE for ElasticNet: 126377.44450764442\n",
      "Tuned results for ElasticNet: Alpha: 0.1, L1 Ratio: 0.1, R2: 0.23219409390951898\n",
      "Best Lambda Value (alpha): 0.1\n",
      "Best L1 Ratio: 0.1\n",
      "Cross-validated MSE for ElasticNet: 126377.44450764442\n"
     ]
    },
    {
     "data": {
      "text/plain": [
       "126377.44450764442"
      ]
     },
     "execution_count": null,
     "metadata": {},
     "output_type": "execute_result"
    }
   ],
   "source": [
    "# Best numeric variable \n",
    "X = hitters[['CRuns']]\n",
    "\n",
    "# Re-tuning with Feature Set\n",
    "best_params = tune_with_interactions(ElasticNet(), feature_data=X, target=y)\n",
    "best_lambda = best_params['alpha']\n",
    "best_l1_ratio = best_params['l1_ratio']\n",
    "\n",
    "print(\"Best Lambda Value (alpha):\", best_lambda)\n",
    "print(\"Best L1 Ratio:\", best_l1_ratio)\n",
    "\n",
    "# Calculate MSE using the best lambda (alpha) and l1_ratio\n",
    "get_mse(ElasticNet(alpha=best_lambda, l1_ratio=best_l1_ratio), X, y)"
   ]
  },
  {
   "cell_type": "code",
   "execution_count": 295,
   "metadata": {
    "vscode": {
     "languageId": "python"
    }
   },
   "outputs": [
    {
     "name": "stdout",
     "output_type": "stream",
     "text": [
      "Tuned results for ElasticNet: Alpha: 0.01, L1 Ratio: 0.5, R2: 0.308124825578613\n",
      "Best Lambda Value (alpha): 0.01\n",
      "Best L1 Ratio: 0.5\n",
      "Cross-validated MSE for ElasticNet: 110697.9873733443\n",
      "Tuned results for ElasticNet: Alpha: 0.01, L1 Ratio: 0.5, R2: 0.308124825578613\n",
      "Best Lambda Value (alpha): 0.01\n",
      "Best L1 Ratio: 0.5\n",
      "Cross-validated MSE for ElasticNet: 110697.9873733443\n"
     ]
    },
    {
     "data": {
      "text/plain": [
       "110697.9873733443"
      ]
     },
     "execution_count": null,
     "metadata": {},
     "output_type": "execute_result"
    }
   ],
   "source": [
    "# 5 best numeric variables \n",
    "X = hitters[['CRuns', 'AtBat', 'CAtBat', 'Hits', 'CRBI']]  \n",
    "\n",
    "# Re-tuning with Feature Set\n",
    "best_params = tune_with_interactions(ElasticNet(), feature_data=X, target=y)\n",
    "best_lambda = best_params['alpha']\n",
    "best_l1_ratio = best_params['l1_ratio']\n",
    "\n",
    "print(\"Best Lambda Value (alpha):\", best_lambda)\n",
    "print(\"Best L1 Ratio:\", best_l1_ratio)\n",
    "\n",
    "# Calculate MSE using the best lambda (alpha) and l1_ratio\n",
    "get_mse(ElasticNet(alpha=best_lambda, l1_ratio=best_l1_ratio), X, y)"
   ]
  },
  {
   "cell_type": "code",
   "execution_count": 294,
   "metadata": {
    "vscode": {
     "languageId": "python"
    }
   },
   "outputs": [
    {
     "name": "stderr",
     "output_type": "stream",
     "text": [
      "/Applications/anaconda3/lib/python3.12/site-packages/sklearn/linear_model/_coordinate_descent.py:678: ConvergenceWarning: Objective did not converge. You might want to increase the number of iterations, check the scale of the features or consider increasing regularisation. Duality gap: 1.907e+06, tolerance: 4.773e+03\n",
      "/Applications/anaconda3/lib/python3.12/site-packages/sklearn/linear_model/_coordinate_descent.py:678: ConvergenceWarning: Objective did not converge. You might want to increase the number of iterations, check the scale of the features or consider increasing regularisation. Duality gap: 1.013e+07, tolerance: 4.773e+03\n",
      "/Applications/anaconda3/lib/python3.12/site-packages/sklearn/linear_model/_coordinate_descent.py:678: ConvergenceWarning: Objective did not converge. You might want to increase the number of iterations, check the scale of the features or consider increasing regularisation. Duality gap: 6.999e+06, tolerance: 3.665e+03\n",
      "/Applications/anaconda3/lib/python3.12/site-packages/sklearn/linear_model/_coordinate_descent.py:678: ConvergenceWarning: Objective did not converge. You might want to increase the number of iterations, check the scale of the features or consider increasing regularisation. Duality gap: 6.391e+06, tolerance: 4.051e+03\n",
      "/Applications/anaconda3/lib/python3.12/site-packages/sklearn/linear_model/_coordinate_descent.py:678: ConvergenceWarning: Objective did not converge. You might want to increase the number of iterations, check the scale of the features or consider increasing regularisation. Duality gap: 6.022e+06, tolerance: 4.314e+03\n",
      "/Applications/anaconda3/lib/python3.12/site-packages/sklearn/linear_model/_coordinate_descent.py:678: ConvergenceWarning: Objective did not converge. You might want to increase the number of iterations, check the scale of the features or consider increasing regularisation. Duality gap: 7.996e+06, tolerance: 4.496e+03\n"
     ]
    },
    {
     "name": "stdout",
     "output_type": "stream",
     "text": [
      "Tuned results for ElasticNet: Alpha: 0.01, L1 Ratio: 0.5, R2: 0.310175472229846\n",
      "Best Lambda Value (alpha): 0.01\n",
      "Best L1 Ratio: 0.5\n",
      "Cross-validated MSE for ElasticNet: 108595.47006031669\n",
      "Tuned results for ElasticNet: Alpha: 0.01, L1 Ratio: 0.5, R2: 0.310175472229846\n",
      "Best Lambda Value (alpha): 0.01\n",
      "Best L1 Ratio: 0.5\n",
      "Cross-validated MSE for ElasticNet: 108595.47006031669\n"
     ]
    },
    {
     "data": {
      "text/plain": [
       "108595.47006031669"
      ]
     },
     "execution_count": null,
     "metadata": {},
     "output_type": "execute_result"
    }
   ],
   "source": [
    "# 5 best numeric variables and interactions with best categorical variable\n",
    "X = hitters[['CRuns', 'AtBat', 'CAtBat', 'Hits', 'CRBI','Division']] \n",
    "\n",
    "# Re-tuning with Feature Set\n",
    "best_params = tune_with_interactions(ElasticNet(), feature_data=X, target=y)\n",
    "best_lambda = best_params['alpha']\n",
    "best_l1_ratio = best_params['l1_ratio']\n",
    "\n",
    "print(\"Best Lambda Value (alpha):\", best_lambda)\n",
    "print(\"Best L1 Ratio:\", best_l1_ratio)\n",
    "\n",
    "# Calculate MSE using the best lambda (alpha) and l1_ratio\n",
    "get_mse(ElasticNet(alpha=best_lambda, l1_ratio=best_l1_ratio), X, y)"
   ]
  },
  {
   "cell_type": "markdown",
   "metadata": {},
   "source": [
    "Lasso with the 5 best numeric variables and the interaction with the best categorical variable performed the best because it has the lowest MSE of 108524.76569799737"
   ]
  },
  {
   "cell_type": "markdown",
   "metadata": {},
   "source": [
    "# Part III. Discussion"
   ]
  },
  {
   "cell_type": "markdown",
   "metadata": {},
   "source": [
    "## A. Ridge\n",
    "Compare your Ridge models with your ordinary regression models. How did your coefficients compare? Why does this make sense?\n",
    "\n",
    "Ridge models have smaller coefficients compared to linear regression models. This makes sense because Ridge regression includes a penalty on the size of the coefficients."
   ]
  },
  {
   "cell_type": "markdown",
   "metadata": {},
   "source": [
    "## B. LASSO\n",
    "Compare your LASSO model in I with your three LASSO models in II. Did you get the same $\\lambda$ results? Why does this make sense? Did you get the same MSEs? Why does this make sense?\n",
    "\n",
    "Yes $\\lambda$ are all the same. This makes sense because because we used a consistent hyperparameter tuning process with cross-validation. However, the MSEs are slightly different because of the different amounts of variables."
   ]
  },
  {
   "cell_type": "markdown",
   "metadata": {},
   "source": [
    "## C. Elastic Net\n",
    "Compare your MSEs for the Elastic Net models with those for the Ridge and LASSO models. Why does it make sense that Elastic Net always “wins”?\n",
    "\n",
    "Elastic Net models always \"wins\" with the lowest MSE because it combines characteristics from both Ridge and LASSO models. This allows Elastic Net models to handle multicollinearity while selecting the most important predictors."
   ]
  },
  {
   "cell_type": "markdown",
   "metadata": {},
   "source": [
    "# Part IV: Final Model\n",
    "Fit your final best pipeline on the full dataset, and summarize your results in a few short sentences and a plot."
   ]
  },
  {
   "cell_type": "code",
   "execution_count": 337,
   "metadata": {
    "vscode": {
     "languageId": "python"
    }
   },
   "outputs": [
    {
     "name": "stderr",
     "output_type": "stream",
     "text": [
      "/Applications/anaconda3/lib/python3.12/site-packages/sklearn/linear_model/_coordinate_descent.py:678: ConvergenceWarning: Objective did not converge. You might want to increase the number of iterations, check the scale of the features or consider increasing regularisation. Duality gap: 3.866e+06, tolerance: 4.773e+03\n",
      "/Applications/anaconda3/lib/python3.12/site-packages/sklearn/linear_model/_coordinate_descent.py:678: ConvergenceWarning: Objective did not converge. You might want to increase the number of iterations, check the scale of the features or consider increasing regularisation. Duality gap: 3.903e+05, tolerance: 3.665e+03\n",
      "/Applications/anaconda3/lib/python3.12/site-packages/sklearn/linear_model/_coordinate_descent.py:678: ConvergenceWarning: Objective did not converge. You might want to increase the number of iterations, check the scale of the features or consider increasing regularisation. Duality gap: 2.486e+05, tolerance: 4.314e+03\n",
      "/Applications/anaconda3/lib/python3.12/site-packages/sklearn/linear_model/_coordinate_descent.py:678: ConvergenceWarning: Objective did not converge. You might want to increase the number of iterations, check the scale of the features or consider increasing regularisation. Duality gap: 1.360e+06, tolerance: 4.496e+03\n",
      "/Applications/anaconda3/lib/python3.12/site-packages/sklearn/linear_model/_coordinate_descent.py:678: ConvergenceWarning: Objective did not converge. You might want to increase the number of iterations, check the scale of the features or consider increasing regularisation. Duality gap: 1.052e+07, tolerance: 4.773e+03\n",
      "/Applications/anaconda3/lib/python3.12/site-packages/sklearn/linear_model/_coordinate_descent.py:678: ConvergenceWarning: Objective did not converge. You might want to increase the number of iterations, check the scale of the features or consider increasing regularisation. Duality gap: 7.540e+06, tolerance: 3.665e+03\n",
      "/Applications/anaconda3/lib/python3.12/site-packages/sklearn/linear_model/_coordinate_descent.py:678: ConvergenceWarning: Objective did not converge. You might want to increase the number of iterations, check the scale of the features or consider increasing regularisation. Duality gap: 7.840e+06, tolerance: 4.051e+03\n",
      "/Applications/anaconda3/lib/python3.12/site-packages/sklearn/linear_model/_coordinate_descent.py:678: ConvergenceWarning: Objective did not converge. You might want to increase the number of iterations, check the scale of the features or consider increasing regularisation. Duality gap: 7.328e+06, tolerance: 4.314e+03\n",
      "/Applications/anaconda3/lib/python3.12/site-packages/sklearn/linear_model/_coordinate_descent.py:678: ConvergenceWarning: Objective did not converge. You might want to increase the number of iterations, check the scale of the features or consider increasing regularisation. Duality gap: 9.197e+06, tolerance: 4.496e+03\n"
     ]
    },
    {
     "name": "stdout",
     "output_type": "stream",
     "text": [
      "Tuned results for ElasticNet: Alpha: 1, L1 Ratio: 0.5, R2: 0.30438575498623055\n",
      "Mean Squared Error (MSE): 103925.2188789196\n",
      "   Predictors  Coefficient\n",
      "3        CRBI    51.418093\n",
      "2       CRuns    51.147212\n",
      "4        Hits    50.438391\n",
      "7       CHits    47.055698\n",
      "6       Walks    46.931845\n",
      "5     PutOuts    45.615099\n",
      "1  Division_W   -32.357492\n",
      "0  Division_E    32.357475\n",
      "8      Errors   -11.047745\n",
      "Tuned results for ElasticNet: Alpha: 1, L1 Ratio: 0.5, R2: 0.30438575498623055\n",
      "Mean Squared Error (MSE): 103925.2188789196\n",
      "   Predictors  Coefficient\n",
      "3        CRBI    51.418093\n",
      "2       CRuns    51.147212\n",
      "4        Hits    50.438391\n",
      "7       CHits    47.055698\n",
      "6       Walks    46.931845\n",
      "5     PutOuts    45.615099\n",
      "1  Division_W   -32.357492\n",
      "0  Division_E    32.357475\n",
      "8      Errors   -11.047745\n"
     ]
    }
   ],
   "source": [
    "# Narrowing X down to True Best Predictors (Combination of Lasso and ElasticNet Coefficients)\n",
    "X = hitters[['CRuns','CRBI', 'Hits', 'PutOuts', 'Walks','Division','CHits','Errors']]\n",
    "y = hitters['Salary'].dropna()\n",
    "X = X.loc[y.index]  # Ensure X matches y's non-NaN rows\n",
    "\n",
    "# Elastic Net Interaction was Best Pipeline\n",
    "best_params = tune_with_interactions(ElasticNet(), feature_data=X, target=y)\n",
    "best_lambda = best_params['alpha']\n",
    "best_l1_ratio = best_params['l1_ratio']\n",
    "\n",
    "# Define and fit the final pipeline\n",
    "elastic_pipeline = Pipeline([\n",
    "    (\"preprocessing\", create_column_transformer()),  # Assuming create_column_transformer() is already defined\n",
    "    (\"elastic_net\", ElasticNet(alpha=best_lambda, l1_ratio=best_l1_ratio))\n",
    "])\n",
    "elastic_pipeline.fit(X, y)\n",
    "\n",
    "# Retrieve feature names and coefficients from the best model\n",
    "cat_features = elastic_pipeline.named_steps[\"preprocessing\"].named_transformers_[\"one_hot\"].get_feature_names_out(\n",
    "    input_features=X.select_dtypes(include=object).columns\n",
    ")\n",
    "num_features = X.select_dtypes(include=np.number).columns\n",
    "variables = list(cat_features) + list(num_features)\n",
    "elastic_net_coef = elastic_pipeline.named_steps[\"elastic_net\"].coef_\n",
    "\n",
    "# Display most significant coefficients\n",
    "coef_df = pd.DataFrame({\n",
    "    \"Predictors\": variables,\n",
    "    \"Coefficient\": elastic_net_coef\n",
    "})\n",
    "\n",
    "# Sort coefficients by absolute value for significance\n",
    "coef_df = coef_df.reindex(coef_df['Coefficient'].abs().sort_values(ascending=False).index)\n",
    "\n",
    "# Calculate and display MSE of the final model\n",
    "y_pred = elastic_pipeline.predict(X)\n",
    "mse = mean_squared_error(y, y_pred)\n",
    "print(\"Mean Squared Error (MSE):\", mse)\n",
    "\n",
    "# Display top 10 coefficients\n",
    "print(coef_df.head(10))\n"
   ]
  },
  {
   "cell_type": "code",
   "execution_count": 333,
   "metadata": {
    "vscode": {
     "languageId": "python"
    }
   },
   "outputs": [
    {
     "data": {
      "image/png": "[encoded data removed]"
     },
     "metadata": {},
     "output_type": "display_data"
    }
   ],
   "source": [
    "(\n",
    "    p9.ggplot(coef_df, p9.aes(x=\"Predictors\", y=\"Coefficient\", fill=\"Coefficient > 0\")) \n",
    "    + p9.geom_bar(stat=\"identity\", show_legend=False) \n",
    "    + p9.labs(\n",
    "        title=\"Final Model for Predicting Baseball Players' Salaries\",\n",
    "        x=\"Predictors\",\n",
    "        y=\"Coefficient\")\n",
    "    + p9.theme_minimal()\n",
    ")"
   ]
  },
  {
   "cell_type": "markdown",
   "metadata": {},
   "source": [
    "This plot shows the most significant predictors for predicting baseball player's salaries using a Elastic Net model. Increases in salary is shown in blue, while decreases are shown in red. It has a $\\lambda$ of 1 and a MSE of 103925.22. The largest coefficients are CRBI and CRuns, and the smallest coefficients being Division_E and Division_W, which are the only two negative impact on salary."
   ]
  }
 ],
 "metadata": {
  "language_info": {
   "name": "raw"
  }
 },
 "nbformat": 4,
 "nbformat_minor": 2
}
