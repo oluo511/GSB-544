{
 "cells": [
  {
   "cell_type": "raw",
   "metadata": {
    "vscode": {
     "languageId": "raw"
    }
   },
   "source": [
    "---\n",
    "title: 'Lab 7: Heart Attack'\n",
    "author: Oscar Luo\n",
    "format:\n",
    "    html:\n",
    "        toc: true\n",
    "        code-fold: true\n",
    "embed-resources: true\n",
    "---"
   ]
  },
  {
   "cell_type": "code",
   "execution_count": 2,
   "metadata": {},
   "outputs": [],
   "source": [
    "import pandas as pd\n",
    "from sklearn.pipeline import Pipeline\n",
    "from sklearn.neighbors import KNeighborsClassifier, KNeighborsRegressor\n",
    "from sklearn.tree import DecisionTreeClassifier, DecisionTreeRegressor\n",
    "from sklearn.linear_model import LogisticRegression\n",
    "import numpy as np\n",
    "from sklearn.compose import make_column_selector, ColumnTransformer\n",
    "from sklearn.preprocessing import StandardScaler, OneHotEncoder, PolynomialFeatures\n",
    "from sklearn.model_selection import train_test_split, cross_val_score, GridSearchCV\n",
    "from sklearn.metrics import r2_score, classification_report, confusion_matrix, mean_squared_error, roc_auc_score, roc_curve, precision_score, recall_score"
   ]
  },
  {
   "cell_type": "markdown",
   "metadata": {},
   "source": [
    "# The Data"
   ]
  },
  {
   "cell_type": "code",
   "execution_count": 4,
   "metadata": {},
   "outputs": [
    {
     "data": {
      "text/html": [
       "<div>\n",
       "<style scoped>\n",
       "    .dataframe tbody tr th:only-of-type {\n",
       "        vertical-align: middle;\n",
       "    }\n",
       "\n",
       "    .dataframe tbody tr th {\n",
       "        vertical-align: top;\n",
       "    }\n",
       "\n",
       "    .dataframe thead th {\n",
       "        text-align: right;\n",
       "    }\n",
       "</style>\n",
       "<table border=\"1\" class=\"dataframe\">\n",
       "  <thead>\n",
       "    <tr style=\"text-align: right;\">\n",
       "      <th></th>\n",
       "      <th>age</th>\n",
       "      <th>sex</th>\n",
       "      <th>cp</th>\n",
       "      <th>trtbps</th>\n",
       "      <th>chol</th>\n",
       "      <th>restecg</th>\n",
       "      <th>thalach</th>\n",
       "      <th>output</th>\n",
       "    </tr>\n",
       "  </thead>\n",
       "  <tbody>\n",
       "    <tr>\n",
       "      <th>0</th>\n",
       "      <td>63</td>\n",
       "      <td>1</td>\n",
       "      <td>3</td>\n",
       "      <td>145</td>\n",
       "      <td>233</td>\n",
       "      <td>0</td>\n",
       "      <td>150</td>\n",
       "      <td>1</td>\n",
       "    </tr>\n",
       "    <tr>\n",
       "      <th>1</th>\n",
       "      <td>37</td>\n",
       "      <td>1</td>\n",
       "      <td>2</td>\n",
       "      <td>130</td>\n",
       "      <td>250</td>\n",
       "      <td>1</td>\n",
       "      <td>187</td>\n",
       "      <td>1</td>\n",
       "    </tr>\n",
       "    <tr>\n",
       "      <th>2</th>\n",
       "      <td>56</td>\n",
       "      <td>1</td>\n",
       "      <td>1</td>\n",
       "      <td>120</td>\n",
       "      <td>236</td>\n",
       "      <td>1</td>\n",
       "      <td>178</td>\n",
       "      <td>1</td>\n",
       "    </tr>\n",
       "    <tr>\n",
       "      <th>3</th>\n",
       "      <td>57</td>\n",
       "      <td>0</td>\n",
       "      <td>0</td>\n",
       "      <td>120</td>\n",
       "      <td>354</td>\n",
       "      <td>1</td>\n",
       "      <td>163</td>\n",
       "      <td>1</td>\n",
       "    </tr>\n",
       "    <tr>\n",
       "      <th>4</th>\n",
       "      <td>57</td>\n",
       "      <td>1</td>\n",
       "      <td>0</td>\n",
       "      <td>140</td>\n",
       "      <td>192</td>\n",
       "      <td>1</td>\n",
       "      <td>148</td>\n",
       "      <td>1</td>\n",
       "    </tr>\n",
       "  </tbody>\n",
       "</table>\n",
       "</div>"
      ],
      "text/plain": [
       "   age  sex  cp  trtbps  chol  restecg  thalach  output\n",
       "0   63    1   3     145   233        0      150       1\n",
       "1   37    1   2     130   250        1      187       1\n",
       "2   56    1   1     120   236        1      178       1\n",
       "3   57    0   0     120   354        1      163       1\n",
       "4   57    1   0     140   192        1      148       1"
      ]
     },
     "execution_count": null,
     "metadata": {},
     "output_type": "execute_result"
    }
   ],
   "source": [
    "ha = pd.read_csv(\"https://www.dropbox.com/s/aohbr6yb9ifmc8w/heart_attack.csv?dl=1\")\n",
    "\n",
    "ha.head()"
   ]
  },
  {
   "cell_type": "markdown",
   "metadata": {},
   "source": [
    "# Part One: Fitting Models"
   ]
  },
  {
   "cell_type": "markdown",
   "metadata": {},
   "source": [
    "## Q1: KNN"
   ]
  },
  {
   "cell_type": "code",
   "execution_count": 5,
   "metadata": {},
   "outputs": [
    {
     "name": "stderr",
     "output_type": "stream",
     "text": [
      "/Applications/anaconda3/lib/python3.12/site-packages/sklearn/base.py:486: UserWarning: X has feature names, but KNeighborsClassifier was fitted without feature names\n",
      "  warnings.warn(\n"
     ]
    },
    {
     "data": {
      "text/plain": [
       "(0.709435817805383,\n",
       " array([[ 0, 26],\n",
       "        [ 0, 29]]))"
      ]
     },
     "execution_count": null,
     "metadata": {},
     "output_type": "execute_result"
    }
   ],
   "source": [
    "# Define x and y\n",
    "X = ha.drop(columns=['output'])\n",
    "y = ha['output']\n",
    "\n",
    "X_train, X_test, y_train, y_test = train_test_split(X, y, test_size=0.2, random_state=42)\n",
    "\n",
    "# CT\n",
    "ct = ColumnTransformer([\n",
    "    (\"dummify\", OneHotEncoder(sparse_output=False, handle_unknown=\"ignore\"), make_column_selector(dtype_include=object)),  \n",
    "    (\"standardize\", StandardScaler(), make_column_selector(dtype_include=np.number))  \n",
    "])\n",
    "\n",
    "# KNN and Grid Search\n",
    "knn = KNeighborsClassifier()\n",
    "param_grid_knn = {'n_neighbors': range(1, 21), 'weights': ['uniform', 'distance']}\n",
    "grid_search_knn = GridSearchCV(knn, param_grid_knn, cv=5, scoring='roc_auc')\n",
    "pipeline_knn = Pipeline([('preprocessing', ct), ('knn', grid_search_knn)])\n",
    "\n",
    "# Fit model\n",
    "pipeline_knn.fit(X_train, y_train)\n",
    "best_knn = grid_search_knn.best_estimator_\n",
    "roc_auc_knn = cross_val_score(best_knn, X_train, y_train, cv=5, scoring='roc_auc').mean()\n",
    "\n",
    "# Confusion matrix\n",
    "y_pred_knn = best_knn.predict(X_test)\n",
    "conf_matrix_knn = confusion_matrix(y_test, y_pred_knn)\n",
    "\n",
    "roc_auc_knn, conf_matrix_knn"
   ]
  },
  {
   "cell_type": "markdown",
   "metadata": {},
   "source": [
    "## Q2: Logistic Regression"
   ]
  },
  {
   "cell_type": "code",
   "execution_count": 8,
   "metadata": {},
   "outputs": [
    {
     "name": "stderr",
     "output_type": "stream",
     "text": [
      "/Applications/anaconda3/lib/python3.12/site-packages/sklearn/linear_model/_logistic.py:469: ConvergenceWarning: lbfgs failed to converge (status=1):\n",
      "STOP: TOTAL NO. of ITERATIONS REACHED LIMIT.\n",
      "\n",
      "Increase the number of iterations (max_iter) or scale the data as shown in:\n",
      "    https://scikit-learn.org/stable/modules/preprocessing.html\n",
      "Please also refer to the documentation for alternative solver options:\n",
      "    https://scikit-learn.org/stable/modules/linear_model.html#logistic-regression\n",
      "  n_iter_i = _check_optimize_result(\n",
      "/Applications/anaconda3/lib/python3.12/site-packages/sklearn/linear_model/_logistic.py:469: ConvergenceWarning: lbfgs failed to converge (status=1):\n",
      "STOP: TOTAL NO. of ITERATIONS REACHED LIMIT.\n",
      "\n",
      "Increase the number of iterations (max_iter) or scale the data as shown in:\n",
      "    https://scikit-learn.org/stable/modules/preprocessing.html\n",
      "Please also refer to the documentation for alternative solver options:\n",
      "    https://scikit-learn.org/stable/modules/linear_model.html#logistic-regression\n",
      "  n_iter_i = _check_optimize_result(\n",
      "/Applications/anaconda3/lib/python3.12/site-packages/sklearn/linear_model/_logistic.py:469: ConvergenceWarning: lbfgs failed to converge (status=1):\n",
      "STOP: TOTAL NO. of ITERATIONS REACHED LIMIT.\n",
      "\n",
      "Increase the number of iterations (max_iter) or scale the data as shown in:\n",
      "    https://scikit-learn.org/stable/modules/preprocessing.html\n",
      "Please also refer to the documentation for alternative solver options:\n",
      "    https://scikit-learn.org/stable/modules/linear_model.html#logistic-regression\n",
      "  n_iter_i = _check_optimize_result(\n",
      "/Applications/anaconda3/lib/python3.12/site-packages/sklearn/linear_model/_logistic.py:469: ConvergenceWarning: lbfgs failed to converge (status=1):\n",
      "STOP: TOTAL NO. of ITERATIONS REACHED LIMIT.\n",
      "\n",
      "Increase the number of iterations (max_iter) or scale the data as shown in:\n",
      "    https://scikit-learn.org/stable/modules/preprocessing.html\n",
      "Please also refer to the documentation for alternative solver options:\n",
      "    https://scikit-learn.org/stable/modules/linear_model.html#logistic-regression\n",
      "  n_iter_i = _check_optimize_result(\n",
      "/Applications/anaconda3/lib/python3.12/site-packages/sklearn/linear_model/_logistic.py:469: ConvergenceWarning: lbfgs failed to converge (status=1):\n",
      "STOP: TOTAL NO. of ITERATIONS REACHED LIMIT.\n",
      "\n",
      "Increase the number of iterations (max_iter) or scale the data as shown in:\n",
      "    https://scikit-learn.org/stable/modules/preprocessing.html\n",
      "Please also refer to the documentation for alternative solver options:\n",
      "    https://scikit-learn.org/stable/modules/linear_model.html#logistic-regression\n",
      "  n_iter_i = _check_optimize_result(\n",
      "/Applications/anaconda3/lib/python3.12/site-packages/sklearn/base.py:486: UserWarning: X has feature names, but LogisticRegression was fitted without feature names\n",
      "  warnings.warn(\n"
     ]
    },
    {
     "data": {
      "text/plain": [
       "(0.890139751552795,\n",
       " array([[ 2, 24],\n",
       "        [ 0, 29]]))"
      ]
     },
     "execution_count": null,
     "metadata": {},
     "output_type": "execute_result"
    }
   ],
   "source": [
    "lr = LogisticRegression()\n",
    "param_grid_lr = {'C': [0.001, 0.01, 0.1, 1, 10, 100], 'solver': ['lbfgs']}\n",
    "grid_search_lr = GridSearchCV(lr, param_grid_lr, cv=5, scoring='roc_auc')\n",
    "pipeline_lr = Pipeline([('preprocessing', ct), ('lr', grid_search_lr)])\n",
    "\n",
    "# Fit and evaluate the model\n",
    "pipeline_lr.fit(X_train, y_train)\n",
    "best_lr = grid_search_lr.best_estimator_\n",
    "roc_auc_lr = cross_val_score(best_lr, X_train, y_train, cv=5, scoring='roc_auc').mean()\n",
    "\n",
    "# Confusion matrix\n",
    "y_pred_lr = best_lr.predict(X_test)\n",
    "conf_matrix_lr = confusion_matrix(y_test, y_pred_lr)\n",
    "\n",
    "roc_auc_lr, conf_matrix_lr"
   ]
  },
  {
   "cell_type": "markdown",
   "metadata": {},
   "source": [
    "## Q3: Decision Tree"
   ]
  },
  {
   "cell_type": "code",
   "execution_count": 9,
   "metadata": {},
   "outputs": [
    {
     "name": "stderr",
     "output_type": "stream",
     "text": [
      "/Applications/anaconda3/lib/python3.12/site-packages/sklearn/base.py:486: UserWarning: X has feature names, but DecisionTreeClassifier was fitted without feature names\n",
      "  warnings.warn(\n"
     ]
    },
    {
     "data": {
      "text/plain": [
       "(0.8276695134575569,\n",
       " array([[ 0, 26],\n",
       "        [ 0, 29]]))"
      ]
     },
     "execution_count": null,
     "metadata": {},
     "output_type": "execute_result"
    }
   ],
   "source": [
    "dt = DecisionTreeClassifier(random_state=42)\n",
    "param_grid_dt = {'max_depth': [3, 5, 7, 10, None], 'min_samples_split': [2, 5, 10]}\n",
    "grid_search_dt = GridSearchCV(dt, param_grid_dt, cv=5, scoring='roc_auc')\n",
    "pipeline_dt = Pipeline([('preprocessing', ct), ('dt', grid_search_dt)])\n",
    "\n",
    "# Fit and evaluate the model\n",
    "pipeline_dt.fit(X_train, y_train)\n",
    "best_dt = grid_search_dt.best_estimator_\n",
    "roc_auc_dt = cross_val_score(best_dt, X_train, y_train, cv=5, scoring='roc_auc').mean()\n",
    "\n",
    "# Confusion matrix\n",
    "y_pred_dt = best_dt.predict(X_test)\n",
    "conf_matrix_dt = confusion_matrix(y_test, y_pred_dt)\n",
    "\n",
    "roc_auc_dt, conf_matrix_dt"
   ]
  },
  {
   "cell_type": "markdown",
   "metadata": {},
   "source": [
    "## Q4: Interpretation"
   ]
  },
  {
   "cell_type": "code",
   "execution_count": 15,
   "metadata": {},
   "outputs": [
    {
     "data": {
      "text/plain": [
       "(   Feature  Coefficient  abs_coefficient\n",
       " 6  thalach     1.318547         1.318547\n",
       " 1      sex    -1.236675         1.236675\n",
       " 2       cp     0.904306         0.904306\n",
       " 0      age    -0.292293         0.292293\n",
       " 4     chol    -0.276945         0.276945\n",
       " 3   trtbps    -0.270870         0.270870\n",
       " 5  restecg     0.041581         0.041581,\n",
       "    Feature  Importance\n",
       " 2       cp    0.568116\n",
       " 6  thalach    0.210348\n",
       " 1      sex    0.100022\n",
       " 3   trtbps    0.060913\n",
       " 0      age    0.060602\n",
       " 4     chol    0.000000\n",
       " 5  restecg    0.000000)"
      ]
     },
     "execution_count": null,
     "metadata": {},
     "output_type": "execute_result"
    }
   ],
   "source": [
    "lr_coef = pd.DataFrame({\n",
    "    'Feature': X.columns,\n",
    "    'Coefficient': best_lr.coef_[0]\n",
    "})\n",
    "lr_coef['abs_coefficient'] = lr_coef['Coefficient'].abs()\n",
    "lr_coef_sorted = lr_coef.sort_values('abs_coefficient', ascending=False)\n",
    "\n",
    "# Decision Tree Feature Importances Interpretation\n",
    "dt_feature_importances = pd.DataFrame({\n",
    "    'Feature': X.columns,\n",
    "    'Importance': best_dt.feature_importances_\n",
    "})\n",
    "dt_feature_importances_sorted = dt_feature_importances.sort_values('Importance', ascending=False)\n",
    "\n",
    "lr_coef_sorted, dt_feature_importances_sorted"
   ]
  },
  {
   "cell_type": "markdown",
   "metadata": {},
   "source": [
    "## Q5: ROC Curve"
   ]
  },
  {
   "cell_type": "code",
   "execution_count": 21,
   "metadata": {},
   "outputs": [
    {
     "name": "stderr",
     "output_type": "stream",
     "text": [
      "/Applications/anaconda3/lib/python3.12/site-packages/sklearn/base.py:486: UserWarning: X has feature names, but KNeighborsClassifier was fitted without feature names\n",
      "  warnings.warn(\n",
      "/Applications/anaconda3/lib/python3.12/site-packages/sklearn/base.py:486: UserWarning: X has feature names, but LogisticRegression was fitted without feature names\n",
      "  warnings.warn(\n",
      "/Applications/anaconda3/lib/python3.12/site-packages/sklearn/base.py:486: UserWarning: X has feature names, but DecisionTreeClassifier was fitted without feature names\n",
      "  warnings.warn(\n"
     ]
    },
    {
     "data": {
      "image/png": "[encoded data removed]",
      "text/plain": [
       "<Figure size 800x600 with 1 Axes>"
      ]
     },
     "metadata": {},
     "output_type": "display_data"
    }
   ],
   "source": [
    "from sklearn.metrics import roc_curve, auc\n",
    "import matplotlib.pyplot as plt\n",
    "\n",
    "# Get predicted probabilities for each model using the test set\n",
    "y_prob_knn = best_knn.predict_proba(X_test)[:, 1]\n",
    "y_prob_lr = best_lr.predict_proba(X_test)[:, 1]\n",
    "y_prob_dt = best_dt.predict_proba(X_test)[:, 1]\n",
    "\n",
    "# Compute ROC curve and ROC AUC for each model\n",
    "fpr_knn, tpr_knn, _ = roc_curve(y_test, y_prob_knn)\n",
    "fpr_lr, tpr_lr, _ = roc_curve(y_test, y_prob_lr)\n",
    "fpr_dt, tpr_dt, _ = roc_curve(y_test, y_prob_dt)\n",
    "\n",
    "roc_auc_knn = auc(fpr_knn, tpr_knn)\n",
    "roc_auc_lr = auc(fpr_lr, tpr_lr)\n",
    "roc_auc_dt = auc(fpr_dt, tpr_dt)\n",
    "\n",
    "plt.figure(figsize=(8, 6))\n",
    "plt.plot(fpr_knn, tpr_knn, color='blue', lw=2, label=f'KNN (ROC AUC = {roc_auc_knn:.2f})')\n",
    "plt.plot(fpr_lr, tpr_lr, color='green', lw=2, label=f'Logistic Regression (ROC AUC = {roc_auc_lr:.2f})')\n",
    "plt.plot(fpr_dt, tpr_dt, color='red', lw=2, label=f'Decision Tree (ROC AUC = {roc_auc_dt:.2f})')\n",
    "plt.plot([0, 1], [0, 1], color='gray', linestyle='--', lw=2)\n",
    "plt.xlabel('False Positive Rate')\n",
    "plt.ylabel('True Positive Rate')\n",
    "plt.title('ROC Curve for KNN, Logistic Regression, and Decision Tree')\n",
    "plt.legend(loc='lower right')\n",
    "plt.show()"
   ]
  },
  {
   "cell_type": "markdown",
   "metadata": {},
   "source": [
    "# Part Two: Metrics"
   ]
  },
  {
   "cell_type": "code",
   "execution_count": 42,
   "metadata": {},
   "outputs": [
    {
     "name": "stdout",
     "output_type": "stream",
     "text": [
      "TPR: 0.7671428571428571\n",
      "Precision: 0.8067490842490843\n",
      "TNR: 0.7878205128205127\n",
      "TPR: 0.7671428571428571\n",
      "Precision: 0.8067490842490843\n",
      "TNR: 0.7878205128205127\n"
     ]
    }
   ],
   "source": [
    "# KNN\n",
    "from sklearn.metrics import make_scorer\n",
    "\n",
    "# Using Reduced Feature Set\n",
    "X = ha[['sex', 'cp', 'thalach', 'age']]\n",
    "\n",
    "# Cross-validated metrics\n",
    "tpr = cross_val_score(pipeline_knn, X, y, cv=10, scoring='recall').mean()\n",
    "\n",
    "precision = cross_val_score(pipeline_knn, X, y, cv=10, scoring='precision').mean()\n",
    "\n",
    "tnr_score = make_scorer(recall_score, pos_label=0) \n",
    "tnr = cross_val_score(pipeline_knn, X, y, cv=10, scoring=tnr_score).mean()\n",
    "\n",
    "print(\"TPR:\", tpr)\n",
    "print(\"Precision:\", precision)\n",
    "print(\"TNR:\", tnr)"
   ]
  },
  {
   "cell_type": "code",
   "execution_count": 47,
   "metadata": {},
   "outputs": [
    {
     "name": "stdout",
     "output_type": "stream",
     "text": [
      "TPR: 0.8290476190476191\n",
      "Precision: 0.7846486928104575\n",
      "TNR: 0.725\n",
      "TPR: 0.8290476190476191\n",
      "Precision: 0.7846486928104575\n",
      "TNR: 0.725\n"
     ]
    }
   ],
   "source": [
    "# Using Reduced Feature Set\n",
    "X = ha[['sex', 'cp', 'thalach', 'age', 'chol', 'trtbps']]\n",
    "\n",
    "# Cross-validated metrics\n",
    "tpr = cross_val_score(pipeline_lr, X, y, cv=10, scoring='recall').mean()\n",
    "\n",
    "precision = cross_val_score(pipeline_lr, X, y, cv=10, scoring='precision').mean()\n",
    "\n",
    "tnr_score = make_scorer(recall_score, pos_label=0)  \n",
    "tnr = cross_val_score(pipeline_lr, X, y, cv=10, scoring=tnr_score).mean()\n",
    "\n",
    "print(\"TPR:\", tpr)\n",
    "print(\"Precision:\", precision)\n",
    "print(\"TNR:\", tnr)"
   ]
  },
  {
   "cell_type": "code",
   "execution_count": 49,
   "metadata": {},
   "outputs": [
    {
     "name": "stdout",
     "output_type": "stream",
     "text": [
      "TPR: 0.7404761904761905\n",
      "Precision: 0.7691091588150412\n",
      "TNR: 0.7403846153846154\n",
      "TPR: 0.7404761904761905\n",
      "Precision: 0.7691091588150412\n",
      "TNR: 0.7403846153846154\n"
     ]
    }
   ],
   "source": [
    "# Using Reduced Feature Set\n",
    "X = ha[['sex', 'cp']]\n",
    "\n",
    "# Cross-validated metrics\n",
    "tpr = cross_val_score(pipeline_dt, X, y, cv=10, scoring='recall').mean()\n",
    "\n",
    "precision = cross_val_score(pipeline_dt, X, y, cv=10, scoring='precision').mean()\n",
    "\n",
    "tnr_score = make_scorer(recall_score, pos_label=0)  \n",
    "tnr = cross_val_score(pipeline_dt, X, y, cv=10, scoring=tnr_score).mean()\n",
    "\n",
    "print(\"TPR:\", tpr)\n",
    "print(\"Precision:\", precision)\n",
    "print(\"TNR:\", tnr)"
   ]
  },
  {
   "cell_type": "markdown",
   "metadata": {},
   "source": [
    "# Part Three: Discussion"
   ]
  },
  {
   "cell_type": "markdown",
   "metadata": {},
   "source": [
    "## Q1. The hospital faces severe lawsuits if they deem a patient to be low risk, and that patient later experiences a heart attack.\n",
    "Logistic regression should be used in this case because it has the highest True Positive Rate. This ensures the hospital to identify as many high risk patients as possible even though it may over predict."
   ]
  },
  {
   "cell_type": "markdown",
   "metadata": {},
   "source": [
    "## Q2 The hospital is overfull, and wants to only use bed space for patients most in need of monitoring due to heart attack risk.\n",
    "KNN should be used because it has the highest Precision, which ensures that patients predicted to be at high risk are more likely to actually need monitoring."
   ]
  },
  {
   "cell_type": "markdown",
   "metadata": {},
   "source": [
    "## Q3. The hospital is studying root causes of heart attacks, and would like to understand which biological measures are associated with heart attack risk.\n",
    "Decision tree should be used because they provide clear insights into which features are most influential in making predictions."
   ]
  },
  {
   "cell_type": "markdown",
   "metadata": {},
   "source": [
    "## Q4. The hospital is training a new batch of doctors, and they would like to compare the diagnoses of these doctors to the predictions given by the algorithm to measure the ability of new doctors to diagnose patients.\n",
    "Logistic regression should be used because it has a good balance of True Positive Rate and Precision. It has the highest True Positive Rate and second highest Precision,"
   ]
  },
  {
   "cell_type": "markdown",
   "metadata": {},
   "source": [
    "# Part Four: Validation"
   ]
  },
  {
   "cell_type": "code",
   "execution_count": 125,
   "metadata": {},
   "outputs": [],
   "source": [
    "# Reading Validation Set\n",
    "ha_validation = pd.read_csv(\"https://www.dropbox.com/s/jkwqdiyx6o6oad0/heart_attack_validation.csv?dl=1\")"
   ]
  },
  {
   "cell_type": "code",
   "execution_count": 126,
   "metadata": {},
   "outputs": [
    {
     "name": "stdout",
     "output_type": "stream",
     "text": [
      "KNN Confusion Matrix:\n",
      "[[ 3  8]\n",
      " [ 1 18]]\n",
      "KNN ROC AUC: 0.6004784688995215\n",
      "KNN Precision: 0.6923076923076923\n",
      "KNN TPR: 0.9473684210526315\n",
      "\n",
      "Logistic Regression Confusion Matrix:\n",
      "[[11  0]\n",
      " [19  0]]\n",
      "Logistic Regression ROC AUC: 0.6842105263157894\n",
      "Logistic Regression Precision: 0.0\n",
      "Logistic Regression TPR: 0.0\n",
      "\n",
      "Decision Tree Confusion Matrix:\n",
      "[[ 0 11]\n",
      " [ 0 19]]\n",
      "Decision Tree ROC AUC: 0.5\n",
      "Decision Tree Precision: 0.6333333333333333\n",
      "Decision Tree TPR: 1.0\n",
      "KNN Confusion Matrix:\n",
      "[[ 3  8]\n",
      " [ 1 18]]\n",
      "KNN ROC AUC: 0.6004784688995215\n",
      "KNN Precision: 0.6923076923076923\n",
      "KNN TPR: 0.9473684210526315\n",
      "\n",
      "Logistic Regression Confusion Matrix:\n",
      "[[11  0]\n",
      " [19  0]]\n",
      "Logistic Regression ROC AUC: 0.6842105263157894\n",
      "Logistic Regression Precision: 0.0\n",
      "Logistic Regression TPR: 0.0\n",
      "\n",
      "Decision Tree Confusion Matrix:\n",
      "[[ 0 11]\n",
      " [ 0 19]]\n",
      "Decision Tree ROC AUC: 0.5\n",
      "Decision Tree Precision: 0.6333333333333333\n",
      "Decision Tree TPR: 1.0\n"
     ]
    },
    {
     "name": "stderr",
     "output_type": "stream",
     "text": [
      "/Applications/anaconda3/lib/python3.12/site-packages/sklearn/base.py:486: UserWarning: X has feature names, but KNeighborsClassifier was fitted without feature names\n",
      "  warnings.warn(\n",
      "/Applications/anaconda3/lib/python3.12/site-packages/sklearn/base.py:486: UserWarning: X has feature names, but KNeighborsClassifier was fitted without feature names\n",
      "  warnings.warn(\n",
      "/Applications/anaconda3/lib/python3.12/site-packages/sklearn/base.py:486: UserWarning: X has feature names, but LogisticRegression was fitted without feature names\n",
      "  warnings.warn(\n",
      "/Applications/anaconda3/lib/python3.12/site-packages/sklearn/base.py:486: UserWarning: X has feature names, but LogisticRegression was fitted without feature names\n",
      "  warnings.warn(\n",
      "/Applications/anaconda3/lib/python3.12/site-packages/sklearn/metrics/_classification.py:1509: UndefinedMetricWarning: Precision is ill-defined and being set to 0.0 due to no predicted samples. Use `zero_division` parameter to control this behavior.\n",
      "  _warn_prf(average, modifier, f\"{metric.capitalize()} is\", len(result))\n",
      "/Applications/anaconda3/lib/python3.12/site-packages/sklearn/base.py:486: UserWarning: X has feature names, but DecisionTreeClassifier was fitted without feature names\n",
      "  warnings.warn(\n",
      "/Applications/anaconda3/lib/python3.12/site-packages/sklearn/base.py:486: UserWarning: X has feature names, but DecisionTreeClassifier was fitted without feature names\n",
      "  warnings.warn(\n"
     ]
    }
   ],
   "source": [
    "# KNN Prediction and Metrics\n",
    "y_pred_knn = best_knn.predict(X_val)\n",
    "conf_matrix_knn = confusion_matrix(y_val, y_pred_knn)\n",
    "roc_auc_knn = roc_auc_score(y_val, best_knn.predict_proba(X_val)[:, 1])\n",
    "precision_knn = precision_score(y_val, y_pred_knn)\n",
    "tpr_knn = recall_score(y_val, y_pred_knn) \n",
    "\n",
    "# Logistic Regression Prediction and Metrics\n",
    "y_pred_lr = best_lr.predict(X_val)\n",
    "conf_matrix_lr = confusion_matrix(y_val, y_pred_lr)\n",
    "roc_auc_lr = roc_auc_score(y_val, best_lr.predict_proba(X_val)[:, 1])\n",
    "precision_lr = precision_score(y_val, y_pred_lr)\n",
    "tpr_lr = recall_score(y_val, y_pred_lr)  \n",
    "\n",
    "# Decision Tree Prediction and Metrics\n",
    "y_pred_dt = best_dt.predict(X_val)\n",
    "conf_matrix_dt = confusion_matrix(y_val, y_pred_dt)\n",
    "roc_auc_dt = roc_auc_score(y_val, best_dt.predict_proba(X_val)[:, 1])\n",
    "precision_dt = precision_score(y_val, y_pred_dt)\n",
    "tpr_dt = recall_score(y_val, y_pred_dt)  \n",
    "\n",
    "print(\"KNN Confusion Matrix:\")\n",
    "print(conf_matrix_knn)\n",
    "print(\"KNN ROC AUC:\", roc_auc_knn)\n",
    "print(\"KNN Precision:\", precision_knn)\n",
    "print(\"KNN TPR:\", tpr_knn)\n",
    "\n",
    "print(\"\\nLogistic Regression Confusion Matrix:\")\n",
    "print(conf_matrix_lr)\n",
    "print(\"Logistic Regression ROC AUC:\", roc_auc_lr)\n",
    "print(\"Logistic Regression Precision:\", precision_lr)\n",
    "print(\"Logistic Regression TPR:\", tpr_lr)\n",
    "\n",
    "print(\"\\nDecision Tree Confusion Matrix:\")\n",
    "print(conf_matrix_dt)\n",
    "print(\"Decision Tree ROC AUC:\", roc_auc_dt)\n",
    "print(\"Decision Tree Precision:\", precision_dt)\n",
    "print(\"Decision Tree TPR:\", tpr_dt)"
   ]
  },
  {
   "cell_type": "markdown",
   "metadata": {},
   "source": [
    "True positive rate is higher with all of them being for KNN and Decision Tree  with everything else being lower compared to Part One and Two."
   ]
  },
  {
   "cell_type": "markdown",
   "metadata": {},
   "source": [
    "# Part Five: Cohen’s Kappa"
   ]
  },
  {
   "cell_type": "code",
   "execution_count": 127,
   "metadata": {},
   "outputs": [
    {
     "name": "stdout",
     "output_type": "stream",
     "text": [
      "KNN Model - Cohen's Kappa: 0.2541436464088398\n",
      "Logistic Regression Model - Cohen's Kappa: 0.0\n",
      "Decision Tree Model - Cohen's Kappa: 0.0\n",
      "KNN Model - Cohen's Kappa: 0.2541436464088398\n",
      "Logistic Regression Model - Cohen's Kappa: 0.0\n",
      "Decision Tree Model - Cohen's Kappa: 0.0\n"
     ]
    }
   ],
   "source": [
    "from sklearn.metrics import cohen_kappa_score\n",
    "\n",
    "# KNN\n",
    "knn_kappa = cohen_kappa_score(y_test, y_pred_knn)\n",
    "\n",
    "# Logistic Regression\n",
    "lr_kappa = cohen_kappa_score(y_test, y_pred_lr)\n",
    "\n",
    "# Decision Tree\n",
    "dt_kappa = cohen_kappa_score(y_test, y_pred_dt)\n",
    "\n",
    "# Output the results\n",
    "print(f\"KNN Model - Cohen's Kappa: {knn_kappa}\")\n",
    "print(f\"Logistic Regression Model - Cohen's Kappa: {lr_kappa}\")\n",
    "print(f\"Decision Tree Model - Cohen's Kappa: {dt_kappa}\")"
   ]
  },
  {
   "cell_type": "markdown",
   "metadata": {},
   "source": [
    "Cohen's Kappa values are low, which indicates that the models are underperforming or about the same as making a guess.While ROC AUC may show better results, Cohen's Kappa highlights the need for improvement. This could be due to class imbalance or the need for further model tuning."
   ]
  }
 ],
 "metadata": {
  "language_info": {
   "name": "python"
  }
 },
 "nbformat": 4,
 "nbformat_minor": 2
}
