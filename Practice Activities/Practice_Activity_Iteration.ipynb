{
  "nbformat": 4,
  "nbformat_minor": 0,
  "metadata": {
    "colab": {
      "provenance": []
    },
    "kernelspec": {
      "name": "python3",
      "display_name": "Python 3"
    },
    "language_info": {
      "name": "python"
    }
  },
  "cells": [
    {
      "cell_type": "markdown",
      "source": [
        "0. Load the `penguins` dataset from the `palmerpenguins` library, as well as any other libraries you need.\n",
        "\n"
      ],
      "metadata": {
        "id": "8p1mF9p_njvq"
      }
    },
    {
      "cell_type": "markdown",
      "source": [],
      "metadata": {
        "id": "ZEy0xKpNBUHI"
      }
    },
    {
      "cell_type": "code",
      "execution_count": null,
      "metadata": {
        "id": "B0wyLoBRngwh",
        "colab": {
          "base_uri": "https://localhost:8080/"
        },
        "outputId": "d147ebf2-fda8-4f29-8e12-e405da85e29b"
      },
      "outputs": [
        {
          "output_type": "stream",
          "name": "stdout",
          "text": [
            "Collecting palmerpenguins\n",
            "  Downloading palmerpenguins-0.1.4-py3-none-any.whl.metadata (2.0 kB)\n",
            "Requirement already satisfied: pandas in /usr/local/lib/python3.10/dist-packages (from palmerpenguins) (2.2.2)\n",
            "Requirement already satisfied: numpy in /usr/local/lib/python3.10/dist-packages (from palmerpenguins) (1.26.4)\n",
            "Requirement already satisfied: python-dateutil>=2.8.2 in /usr/local/lib/python3.10/dist-packages (from pandas->palmerpenguins) (2.8.2)\n",
            "Requirement already satisfied: pytz>=2020.1 in /usr/local/lib/python3.10/dist-packages (from pandas->palmerpenguins) (2024.2)\n",
            "Requirement already satisfied: tzdata>=2022.7 in /usr/local/lib/python3.10/dist-packages (from pandas->palmerpenguins) (2024.2)\n",
            "Requirement already satisfied: six>=1.5 in /usr/local/lib/python3.10/dist-packages (from python-dateutil>=2.8.2->pandas->palmerpenguins) (1.16.0)\n",
            "Downloading palmerpenguins-0.1.4-py3-none-any.whl (17 kB)\n",
            "Installing collected packages: palmerpenguins\n",
            "Successfully installed palmerpenguins-0.1.4\n"
          ]
        }
      ],
      "source": [
        "!pip install palmerpenguins\n",
        "\n",
        "import pandas as pd\n",
        "from palmerpenguins import load_penguins\n",
        "\n",
        "penguins = load_penguins()\n"
      ]
    },
    {
      "cell_type": "markdown",
      "source": [
        "1. Write a function that takes in information about a penguin, and returns one of the following definitions:\n",
        "\n",
        "*   \"Big Mouth Billy\": Male penguins with bill length times bill depth greater than 800.\n",
        "*   \"Dainty Daisy\": Female penguins with flipper length less than 5% of body mass.\n",
        "*   \"Average Adelie:\" Any Adelie penguins that do not fall into either category.\n",
        "*   \"Other\": Any penguins that do not fall into any of the categories.\n",
        "\n"
      ],
      "metadata": {
        "id": "LUURcsjcnrA3"
      }
    },
    {
      "cell_type": "code",
      "source": [
        "def classify_penguin(penguin):\n",
        "    # Check for \"Big Mouth Billy\" condition\n",
        "    if (penguin[\"sex\"] == \"male\") and (penguin[\"bill_length_mm\"] * penguin[\"bill_depth_mm\"] > 800):\n",
        "        return \"Big Mouth Billy\"\n",
        "\n",
        "    # Check for \"Dainty Daisy\" condition\n",
        "    elif (penguin[\"sex\"] == \"female\") and (penguin[\"flipper_length_mm\"] / penguin[\"body_mass_g\"] < 0.05):\n",
        "        return \"Dainty Daisy\"\n",
        "\n",
        "    # Check for \"Average Adelie\" condition\n",
        "    elif penguin[\"species\"] == \"Adelie\":\n",
        "        return \"Average Adelie\"\n",
        "\n",
        "    # If none of the conditions are met, return \"Other\"\n",
        "    else:\n",
        "        return \"Other\""
      ],
      "metadata": {
        "id": "udKVPIJmpKG_"
      },
      "execution_count": null,
      "outputs": []
    },
    {
      "cell_type": "markdown",
      "source": [
        "2. Use an iterable function to create a new variable called `category_name` that adds these labels."
      ],
      "metadata": {
        "id": "L3cOiPwJo_q5"
      }
    },
    {
      "cell_type": "code",
      "source": [
        "penguins[\"category_name\"] = penguins.apply(classify_penguin, axis = 1)"
      ],
      "metadata": {
        "id": "AJk_DHBDpKvV"
      },
      "execution_count": null,
      "outputs": []
    },
    {
      "cell_type": "markdown",
      "source": [
        "3. Run the following code to find the counts for each type."
      ],
      "metadata": {
        "id": "wzjur3hzpLxr"
      }
    },
    {
      "cell_type": "code",
      "source": [
        "penguins.value_counts(\"category_name\")"
      ],
      "metadata": {
        "id": "iDHDAKOXpPOm",
        "colab": {
          "base_uri": "https://localhost:8080/",
          "height": 241
        },
        "outputId": "5645658e-f6b0-428d-8b84-a3529e2a1049"
      },
      "execution_count": null,
      "outputs": [
        {
          "output_type": "execute_result",
          "data": {
            "text/plain": [
              "category_name\n",
              "Average Adelie     127\n",
              "Other               84\n",
              "Big Mouth Billy     71\n",
              "Dainty Daisy        62\n",
              "Name: count, dtype: int64"
            ],
            "text/html": [
              "<div>\n",
              "<style scoped>\n",
              "    .dataframe tbody tr th:only-of-type {\n",
              "        vertical-align: middle;\n",
              "    }\n",
              "\n",
              "    .dataframe tbody tr th {\n",
              "        vertical-align: top;\n",
              "    }\n",
              "\n",
              "    .dataframe thead th {\n",
              "        text-align: right;\n",
              "    }\n",
              "</style>\n",
              "<table border=\"1\" class=\"dataframe\">\n",
              "  <thead>\n",
              "    <tr style=\"text-align: right;\">\n",
              "      <th></th>\n",
              "      <th>count</th>\n",
              "    </tr>\n",
              "    <tr>\n",
              "      <th>category_name</th>\n",
              "      <th></th>\n",
              "    </tr>\n",
              "  </thead>\n",
              "  <tbody>\n",
              "    <tr>\n",
              "      <th>Average Adelie</th>\n",
              "      <td>127</td>\n",
              "    </tr>\n",
              "    <tr>\n",
              "      <th>Other</th>\n",
              "      <td>84</td>\n",
              "    </tr>\n",
              "    <tr>\n",
              "      <th>Big Mouth Billy</th>\n",
              "      <td>71</td>\n",
              "    </tr>\n",
              "    <tr>\n",
              "      <th>Dainty Daisy</th>\n",
              "      <td>62</td>\n",
              "    </tr>\n",
              "  </tbody>\n",
              "</table>\n",
              "</div><br><label><b>dtype:</b> int64</label>"
            ]
          },
          "metadata": {},
          "execution_count": 17
        }
      ]
    }
  ]
}